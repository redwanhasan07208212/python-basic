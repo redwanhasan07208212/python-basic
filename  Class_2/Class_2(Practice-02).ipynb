{
  "cells": [
    {
      "cell_type": "markdown",
      "metadata": {
        "id": "2Yeb66OvFRiP"
      },
      "source": [
        "### `Problem 1` - Print the following pattern. Write a program to use for loop to print the following reverse number pattern.\n",
        "\n",
        "```bash\n",
        "5 4 3 2 1\n",
        "4 3 2 1\n",
        "3 2 1\n",
        "2 1\n",
        "1\n",
        "```"
      ]
    },
    {
      "cell_type": "code",
      "execution_count": 2,
      "metadata": {
        "id": "I_rywD-UFTkY"
      },
      "outputs": [
        {
          "name": "stdout",
          "output_type": "stream",
          "text": [
            "5 4 3 2 1 \n",
            "4 3 2 1 \n",
            "3 2 1 \n",
            "2 1 \n",
            "1 \n"
          ]
        }
      ],
      "source": [
        "# Code here\n",
        "rows = int(input('Enter the number of rows'))\n",
        "for i in range (rows , 0 , -1):\n",
        "    for j in range (i,0,-1):\n",
        "        print(j,end=\" \")\n",
        "    print( )"
      ]
    },
    {
      "cell_type": "markdown",
      "metadata": {
        "id": "n0baB62wFVV5"
      },
      "source": [
        "### `Problem 2`: Print the following pattern.\n",
        "\n",
        "```bash\n",
        "*\n",
        "* *\n",
        "* * *\n",
        "* * * *\n",
        "* * * * *\n",
        "* * * *\n",
        "* * *\n",
        "* *\n",
        "*\n",
        "```"
      ]
    },
    {
      "cell_type": "code",
      "execution_count": 4,
      "metadata": {
        "id": "wTD92u-bFbVT"
      },
      "outputs": [
        {
          "name": "stdout",
          "output_type": "stream",
          "text": [
            "* \n",
            "* * \n",
            "* * * \n",
            "* * * * \n",
            "* * * * * \n",
            "* * * * \n",
            "* * * \n",
            "* * \n",
            "* \n"
          ]
        }
      ],
      "source": [
        "# Code here\n",
        "rows = int(input('Enter the number of rows'))\n",
        "for i in range(1,rows+1):\n",
        "    for j in range(i):\n",
        "        print(\"*\",end=\" \")\n",
        "    print()\n",
        "\n",
        "for i in range(rows-1,0,-1):\n",
        "    for j in range(i):\n",
        "        print(\"*\",end=\" \")\n",
        "    print()"
      ]
    },
    {
      "cell_type": "markdown",
      "metadata": {
        "id": "M7MzBABdFc8b"
      },
      "source": [
        "### `Problem 3`:Write a program to pring the following pattern\n",
        "\n",
        "        *\n",
        "      * * *\n",
        "    * * * * *\n",
        "   * * * * * * *\n",
        "* * * * * * * * *\n"
      ]
    },
    {
      "cell_type": "code",
      "execution_count": null,
      "metadata": {
        "id": "ul-tJ0meF2Jr"
      },
      "outputs": [],
      "source": [
        "# Code here\n",
        "# Code here\n",
        "n = int(input(\"Enter a number: \"))\n",
        "\n",
        "for i in range(1, n + 1):\n",
        "    #spaces to center the stars\n",
        "    print(\" \" * (n-i), end=\" \")\n",
        "    #stars with a space\n",
        "    print(\"* \" * i)"
      ]
    },
    {
      "cell_type": "markdown",
      "metadata": {
        "id": "gU4m8eC3GHqH"
      },
      "source": [
        "### `Problem 4`:Write a program to print the following pattern\n",
        "\n",
        "1\n",
        "\n",
        "2 1\n",
        "\n",
        "3 2 1\n",
        "\n",
        "4 3 2 1\n",
        "\n",
        "5 4 3 2 1"
      ]
    },
    {
      "cell_type": "code",
      "execution_count": 7,
      "metadata": {
        "id": "HfGPUtmJGQf6"
      },
      "outputs": [
        {
          "name": "stdout",
          "output_type": "stream",
          "text": [
            "1 \n",
            "2 1 \n",
            "3 2 1 \n",
            "4 3 2 1 \n",
            "5 4 3 2 1 \n"
          ]
        }
      ],
      "source": [
        "# Code here\n",
        "n = int(input(\"Enter the number of rows\"))\n",
        "for i in range(1,n+1):\n",
        "    for j in range(i,0,-1):\n",
        "        print(j,end=\" \")\n",
        "    print()"
      ]
    },
    {
      "cell_type": "markdown",
      "metadata": {
        "id": "98TZ1X0hGSI-"
      },
      "source": [
        "### `Problem 5`: Write a Python Program to Find the Sum of the Series till the nth term:<br>\n",
        "1 + x^2/2 + x^3/3 + … x^n/n<br>\n",
        "n will be provided by the user"
      ]
    },
    {
      "cell_type": "code",
      "execution_count": 16,
      "metadata": {
        "id": "3ZWu99XUGuhU"
      },
      "outputs": [
        {
          "name": "stdout",
          "output_type": "stream",
          "text": [
            "1257005.8115079366\n"
          ]
        }
      ],
      "source": [
        "# Code here\n",
        "sum = 1;\n",
        "n = int(input('Enter the nth term of n'))\n",
        "x = int(input(\"Enter the value of x\"))\n",
        "for i in range(2,n+1):\n",
        "    sum = sum+(x**i/i)\n",
        "print(sum)"
      ]
    },
    {
      "cell_type": "markdown",
      "metadata": {
        "id": "matpUyxTH4hQ"
      },
      "source": [
        "### `Problem 6` - Find the sum of the series upto n terms.\n",
        "Write a program to calculate the sum of series up to n term. For example, if n =5 the series will become 2 + 22 + 222 + 2222 + 22222 = 24690. Take the user input and then calculate. And the output style should match which is given in the example.\n",
        "\n",
        "**Example 1:**\n",
        "\n",
        "`Input:`\n",
        "```bash\n",
        "5\n",
        "```\n",
        "\n",
        "`Output:`\n",
        "\n",
        "```bash\n",
        "2+22+222+2222+22222\n",
        "Sum of above series is: 24690\n",
        "```"
      ]
    },
    {
      "cell_type": "code",
      "execution_count": 20,
      "metadata": {
        "id": "jL68XMU8H3xM"
      },
      "outputs": [
        {
          "name": "stdout",
          "output_type": "stream",
          "text": [
            "2 +  22 +  222 +  2222 +  22222 +  \n",
            "24690\n"
          ]
        }
      ],
      "source": [
        "# Code here\n",
        "\n",
        "n = int(input('Enter the terms of nth'))\n",
        "s = 0\n",
        "current_sum = 2\n",
        "for i in range(1,n+1):\n",
        "    s = s + current_sum;\n",
        "    print(f'{current_sum} + ' , end=' ')\n",
        "    current_sum = current_sum*10+2\n",
        "\n",
        "print( )\n",
        "print(s)"
      ]
    },
    {
      "cell_type": "markdown",
      "metadata": {
        "id": "l7Jpeuq7IeT-"
      },
      "source": [
        "### `Problem 7`: Write a program to print all the unique combinations of 1,2,3 and 4\n",
        "\n",
        "`Output`:\n",
        "```\n",
        "1 2 3 4\n",
        "1 2 4 3\n",
        "1 3 2 4\n",
        "1 3 4 2\n",
        "1 4 2 3\n",
        "1 4 3 2\n",
        "2 1 3 4\n",
        "2 1 4 3\n",
        "2 3 1 4\n",
        "2 3 4 1\n",
        "2 4 1 3\n",
        ".\n",
        ".\n",
        "and so on\n",
        "```"
      ]
    },
    {
      "cell_type": "code",
      "execution_count": 21,
      "metadata": {
        "id": "Jiy1u7PvJRbb"
      },
      "outputs": [
        {
          "name": "stdout",
          "output_type": "stream",
          "text": [
            "1 2 3 4\n",
            "1 2 4 3\n",
            "1 3 2 4\n",
            "1 3 4 2\n",
            "1 4 2 3\n",
            "1 4 3 2\n",
            "2 1 3 4\n",
            "2 1 4 3\n",
            "2 3 1 4\n",
            "2 3 4 1\n",
            "2 4 1 3\n",
            "2 4 3 1\n",
            "3 1 2 4\n",
            "3 1 4 2\n",
            "3 2 1 4\n",
            "3 2 4 1\n",
            "3 4 1 2\n",
            "3 4 2 1\n",
            "4 1 2 3\n",
            "4 1 3 2\n",
            "4 2 1 3\n",
            "4 2 3 1\n",
            "4 3 1 2\n",
            "4 3 2 1\n"
          ]
        }
      ],
      "source": [
        "# Code here\n",
        "def generate_permutations(nums, current_permutation):\n",
        "    if len(nums) == 0:\n",
        "        print(' '.join(map(str, current_permutation)))\n",
        "        return\n",
        "    for i in range(len(nums)):\n",
        "        new_nums = nums[:i] + nums[i+1:]\n",
        "        generate_permutations(new_nums, current_permutation + [nums[i]])\n",
        "\n",
        "# List of numbers\n",
        "numbers = [1, 2, 3, 4]\n",
        "\n",
        "# Generate and print all permutations\n",
        "generate_permutations(numbers, [])"
      ]
    }
  ],
  "metadata": {
    "colab": {
      "provenance": []
    },
    "kernelspec": {
      "display_name": "Python 3",
      "name": "python3"
    },
    "language_info": {
      "codemirror_mode": {
        "name": "ipython",
        "version": 3
      },
      "file_extension": ".py",
      "mimetype": "text/x-python",
      "name": "python",
      "nbconvert_exporter": "python",
      "pygments_lexer": "ipython3",
      "version": "3.13.2"
    }
  },
  "nbformat": 4,
  "nbformat_minor": 0
}
