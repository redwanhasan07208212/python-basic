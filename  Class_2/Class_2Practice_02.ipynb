{
 "cells": [
  {
   "cell_type": "markdown",
   "metadata": {
    "id": "2Yeb66OvFRiP"
   },
   "source": [
    "### `Problem 1` - Print the following pattern. Write a program to use for loop to print the following reverse number pattern.\n",
    "\n",
    "```bash\n",
    "5 4 3 2 1\n",
    "4 3 2 1\n",
    "3 2 1\n",
    "2 1\n",
    "1\n",
    "```"
   ]
  },
  {
   "cell_type": "code",
   "execution_count": 1,
   "metadata": {
    "colab": {
     "base_uri": "https://localhost:8080/"
    },
    "id": "I_rywD-UFTkY",
    "outputId": "61f5a2a9-16dd-4fd8-ffbb-873e02507522"
   },
   "outputs": [
    {
     "name": "stdin",
     "output_type": "stream",
     "text": [
      "Enter a number:  5\n"
     ]
    },
    {
     "name": "stdout",
     "output_type": "stream",
     "text": [
      "5 4 3 2 1 \n",
      "4 3 2 1 \n",
      "3 2 1 \n",
      "2 1 \n",
      "1 \n"
     ]
    }
   ],
   "source": [
    "# Code here\n",
    "n = int(input(\"Enter a number: \"))\n",
    "for i in range(n, 0, -1): #for i in range(start, end, step)\n",
    "    for j in range(i, 0, -1):\n",
    "        print(j, end=\" \") # print(j, end=\" \") = Defines what to print at the end of each print statement\n",
    "    print() # Start a new line"
   ]
  },
  {
   "cell_type": "markdown",
   "metadata": {
    "id": "n0baB62wFVV5"
   },
   "source": [
    "### `Problem 2`: Print the following pattern.\n",
    "\n",
    "```bash\n",
    "*\n",
    "* *\n",
    "* * *\n",
    "* * * *\n",
    "* * * * *\n",
    "* * * *\n",
    "* * *\n",
    "* *\n",
    "*\n",
    "```"
   ]
  },
  {
   "cell_type": "code",
   "execution_count": 8,
   "metadata": {
    "colab": {
     "base_uri": "https://localhost:8080/"
    },
    "id": "wTD92u-bFbVT",
    "outputId": "13c6c10e-4245-429f-b908-6bcacf4c4462"
   },
   "outputs": [
    {
     "name": "stdout",
     "output_type": "stream",
     "text": [
      "5\n",
      "* \n",
      "* * \n",
      "* * * \n",
      "* * * * \n",
      "* * * * * \n",
      "* * * * \n",
      "* * * \n",
      "* * \n",
      "* \n"
     ]
    }
   ],
   "source": [
    "# Code here\n",
    "n = int(input())\n",
    "for i in range(1,n+1):\n",
    "  for j in range(i):\n",
    "    print(\"*\",end=\" \")\n",
    "  print()\n",
    "  # Just reverse the code with n-1\n",
    "for i in range(n - 1, 0, -1):\n",
    "    for j in range(i):\n",
    "        print(\"*\", end=\" \")\n",
    "    print()"
   ]
  },
  {
   "cell_type": "markdown",
   "metadata": {
    "id": "M7MzBABdFc8b"
   },
   "source": [
    "### `Problem 3`:Write a program to pring the following pattern\n",
    "\n",
    "        *\n",
    "      * * *\n",
    "    * * * * *\n",
    "   * * * * * * *\n",
    "* * * * * * * * *\n"
   ]
  },
  {
   "cell_type": "code",
   "execution_count": 2,
   "metadata": {
    "colab": {
     "base_uri": "https://localhost:8080/"
    },
    "id": "ul-tJ0meF2Jr",
    "outputId": "a010c5d7-88ed-461f-8808-a832d0b0b88e"
   },
   "outputs": [
    {
     "name": "stdin",
     "output_type": "stream",
     "text": [
      "Enter a number:  5\n"
     ]
    },
    {
     "name": "stdout",
     "output_type": "stream",
     "text": [
      "     * \n",
      "    * * \n",
      "   * * * \n",
      "  * * * * \n",
      " * * * * * \n"
     ]
    }
   ],
   "source": [
    "# Code here\n",
    "n = int(input(\"Enter a number: \"))\n",
    "\n",
    "for i in range(1, n + 1):\n",
    "    #spaces to center the stars\n",
    "    print(\" \" * (n-i), end=\" \")\n",
    "    #stars with a space\n",
    "    print(\"* \" * i)"
   ]
  },
  {
   "cell_type": "markdown",
   "metadata": {
    "id": "gU4m8eC3GHqH"
   },
   "source": [
    "### `Problem 4`:Write a program to print the following pattern\n",
    "\n",
    "1\n",
    "\n",
    "2 1\n",
    "\n",
    "3 2 1\n",
    "\n",
    "4 3 2 1\n",
    "\n",
    "5 4 3 2 1"
   ]
  },
  {
   "cell_type": "code",
   "execution_count": 3,
   "metadata": {
    "colab": {
     "base_uri": "https://localhost:8080/"
    },
    "id": "HfGPUtmJGQf6",
    "outputId": "ab68e5f1-38e3-4b54-f495-43c0b837721d"
   },
   "outputs": [
    {
     "name": "stdin",
     "output_type": "stream",
     "text": [
      "Enter a number:  10\n"
     ]
    },
    {
     "name": "stdout",
     "output_type": "stream",
     "text": [
      "1 \n",
      "2 1 \n",
      "3 2 1 \n",
      "4 3 2 1 \n",
      "5 4 3 2 1 \n",
      "6 5 4 3 2 1 \n",
      "7 6 5 4 3 2 1 \n",
      "8 7 6 5 4 3 2 1 \n",
      "9 8 7 6 5 4 3 2 1 \n",
      "10 9 8 7 6 5 4 3 2 1 \n"
     ]
    }
   ],
   "source": [
    "# Code here\n",
    "n = int(input(\"Enter a number: \"))\n",
    "for i in range(1,n+1,1): #for i in range(start, end, by)\n",
    "    for j in range(i, 0, -1): # j will start at i, stop before 0, and decrease by 1 at each step.\n",
    "        print(j, end=\" \") # print(j, end=\" \") = Defines what to print at the end of each print statement\n",
    "    print() # Start a new line"
   ]
  },
  {
   "cell_type": "markdown",
   "metadata": {
    "id": "98TZ1X0hGSI-"
   },
   "source": [
    "### `Problem 5`: Write a Python Program to Find the Sum of the Series till the nth term:<br>\n",
    "1 + x^2/2 + x^3/3 + … x^n/n<br>\n",
    "n will be provided by the user"
   ]
  },
  {
   "cell_type": "code",
   "execution_count": 61,
   "metadata": {
    "colab": {
     "base_uri": "https://localhost:8080/"
    },
    "id": "3ZWu99XUGuhU",
    "outputId": "2695a212-ed25-47f2-9d1a-eed261fa838a"
   },
   "outputs": [
    {
     "name": "stdout",
     "output_type": "stream",
     "text": [
      "Enter the value of x: 5\n",
      "Enter the number of terms (n): 10\n",
      "The sum of the series is: 1257005.8115079366\n"
     ]
    }
   ],
   "source": [
    "# Code here\n",
    "x = float(input(\"Enter the value of x: \"))\n",
    "n = int(input(\"Enter the number of terms (n): \"))\n",
    "\n",
    "# Initialize it(where to start)\n",
    "p = 1 # because we multiply it if we initialize by zero it will be zero\n",
    "\n",
    "# Iteration it\n",
    "for i in range(2, n + 1):\n",
    "    p = (x ** i) / i+p\n",
    "\n",
    "print(f\"The sum of the series is: {p}\")"
   ]
  },
  {
   "cell_type": "markdown",
   "metadata": {
    "id": "matpUyxTH4hQ"
   },
   "source": [
    "### `Problem 6` - Find the sum of the series upto n terms.\n",
    "Write a program to calculate the sum of series up to n term. For example, if n =5 the series will become 2 + 22 + 222 + 2222 + 22222 = 24690. Take the user input and then calculate. And the output style should match which is given in the example.\n",
    "\n",
    "**Example 1:**\n",
    "\n",
    "`Input:`\n",
    "```bash\n",
    "5\n",
    "```\n",
    "\n",
    "`Output:`\n",
    "\n",
    "```bash\n",
    "2+22+222+2222+22222\n",
    "Sum of above series is: 24690\n",
    "```"
   ]
  },
  {
   "cell_type": "code",
   "execution_count": 65,
   "metadata": {
    "colab": {
     "base_uri": "https://localhost:8080/"
    },
    "id": "jL68XMU8H3xM",
    "outputId": "6b954cbf-6918-49e8-80fb-717392108afd"
   },
   "outputs": [
    {
     "name": "stdout",
     "output_type": "stream",
     "text": [
      "Enter the number of terms: 7\n",
      "2+22+222+2222+22222+222222+2222222\n",
      "Sum of above series is 2469134\n"
     ]
    }
   ],
   "source": [
    "# Code here\n",
    "n = int(input(\"Enter the number of terms: \"))\n",
    "# Initialize variables\n",
    "current_term = 2\n",
    "s = 0\n",
    "terms = [] #store the value in list\n",
    "\n",
    "# Generate series and calculate the sum\n",
    "for i in range(1, n + 1):\n",
    "    terms.append(str(current_term))\n",
    "    s= current_term+s\n",
    "    current_term = current_term * 10 + 2  #next term by appending '2'\n",
    "\n",
    "print(\"+\".join(terms))\n",
    "print(\"Sum of above series is\", s)"
   ]
  },
  {
   "cell_type": "markdown",
   "metadata": {
    "id": "l7Jpeuq7IeT-"
   },
   "source": [
    "### `Problem 7`: Write a program to print all the unique combinations of 1,2,3 and 4\n",
    "\n",
    "`Output`:\n",
    "```\n",
    "1 2 3 4\n",
    "1 2 4 3\n",
    "1 3 2 4\n",
    "1 3 4 2\n",
    "1 4 2 3\n",
    "1 4 3 2\n",
    "2 1 3 4\n",
    "2 1 4 3\n",
    "2 3 1 4\n",
    "2 3 4 1\n",
    "2 4 1 3\n",
    ".\n",
    ".\n",
    "and so on\n",
    "```"
   ]
  },
  {
   "cell_type": "code",
   "execution_count": 66,
   "metadata": {
    "colab": {
     "base_uri": "https://localhost:8080/"
    },
    "id": "Jiy1u7PvJRbb",
    "outputId": "6fdb19fe-2f89-47ba-b26c-927a5b23d94b"
   },
   "outputs": [
    {
     "name": "stdout",
     "output_type": "stream",
     "text": [
      "1 2 3 4\n",
      "1 2 4 3\n",
      "1 3 2 4\n",
      "1 3 4 2\n",
      "1 4 2 3\n",
      "1 4 3 2\n",
      "2 1 3 4\n",
      "2 1 4 3\n",
      "2 3 1 4\n",
      "2 3 4 1\n",
      "2 4 1 3\n",
      "2 4 3 1\n",
      "3 1 2 4\n",
      "3 1 4 2\n",
      "3 2 1 4\n",
      "3 2 4 1\n",
      "3 4 1 2\n",
      "3 4 2 1\n",
      "4 1 2 3\n",
      "4 1 3 2\n",
      "4 2 1 3\n",
      "4 2 3 1\n",
      "4 3 1 2\n",
      "4 3 2 1\n"
     ]
    }
   ],
   "source": [
    "# Code here\n",
    "def generate_permutations(nums, current_permutation):\n",
    "    if len(nums) == 0:\n",
    "        print(' '.join(map(str, current_permutation)))\n",
    "        return\n",
    "    for i in range(len(nums)):\n",
    "        new_nums = nums[:i] + nums[i+1:]\n",
    "        generate_permutations(new_nums, current_permutation + [nums[i]])\n",
    "\n",
    "# List of numbers\n",
    "numbers = [1, 2, 3, 4]\n",
    "\n",
    "# Generate and print all permutations\n",
    "generate_permutations(numbers, [])\n"
   ]
  },
  {
   "cell_type": "code",
   "execution_count": null,
   "metadata": {
    "id": "VE7P3swg0rbu"
   },
   "outputs": [],
   "source": []
  }
 ],
 "metadata": {
  "colab": {
   "provenance": []
  },
  "kernelspec": {
   "display_name": "Python 3 (ipykernel)",
   "language": "python",
   "name": "python3"
  },
  "language_info": {
   "codemirror_mode": {
    "name": "ipython",
    "version": 3
   },
   "file_extension": ".py",
   "mimetype": "text/x-python",
   "name": "python",
   "nbconvert_exporter": "python",
   "pygments_lexer": "ipython3",
   "version": "3.13.0"
  }
 },
 "nbformat": 4,
 "nbformat_minor": 4
}
