{
 "cells": [
  {
   "cell_type": "markdown",
   "metadata": {},
   "source": [
    "# Practice Problem"
   ]
  },
  {
   "cell_type": "code",
   "execution_count": 1,
   "metadata": {},
   "outputs": [
    {
     "name": "stdout",
     "output_type": "stream",
     "text": [
      "<class 'int'>\n",
      "<class 'float'>\n",
      "<class 'str'>\n",
      "<class 'bool'>\n",
      "<class 'list'>\n"
     ]
    }
   ],
   "source": [
    "\"\"\" 1. Identify the data types of the following values: 25, 3.14, \"Python\", True, [1, 2, 3, 4]. Print the type of each value using the `type()` function. \"\"\"\n",
    "\n",
    "print(type(25))\n",
    "print(type(3.14))\n",
    "print(type(\"Python\"))\n",
    "print(type(True))\n",
    "print(type([1,2,3,4]))"
   ]
  },
  {
   "cell_type": "code",
   "execution_count": 2,
   "metadata": {},
   "outputs": [
    {
     "name": "stdout",
     "output_type": "stream",
     "text": [
      "My name is Redwan Hasan, I am 25 years old, I am 1.68m tall.\n"
     ]
    }
   ],
   "source": [
    "\"\"\" 2. Create three variables: `name` (your name), `age` (your age), and `height` (your height in meters). Print all three values in a sentence like: \"My name is Alice, I am 25 years old, and I am 1.65m tall.\"   \"\"\"\n",
    "\n",
    "name = 'Redwan Hasan'\n",
    "age = 25 \n",
    "height = 1.68\n",
    "\n",
    "print(f\"My name is {name}, I am {age} years old, I am {height}m tall.\")"
   ]
  },
  {
   "cell_type": "code",
   "execution_count": 5,
   "metadata": {},
   "outputs": [
    {
     "name": "stdout",
     "output_type": "stream",
     "text": [
      "50 20\n",
      "<class 'int'> <class 'str'>\n"
     ]
    }
   ],
   "source": [
    "\"\"\" 3. Convert the following values and print the results: Convert the string \"50\" to an integer, Convert the integer 20 to a string, Convert the float 3.14 to an integer.  \"\"\"\n",
    "\n",
    "parseInt = int('50')\n",
    "parseStr = str(20)\n",
    "print(parseInt, parseStr)\n",
    "print(type(parseInt) , type(parseStr))"
   ]
  },
  {
   "cell_type": "code",
   "execution_count": 6,
   "metadata": {},
   "outputs": [
    {
     "name": "stdout",
     "output_type": "stream",
     "text": [
      "77\n",
      "13\n",
      "1440\n",
      "1.40625\n",
      "True\n"
     ]
    }
   ],
   "source": [
    "\"\"\" 4. Write a program that takes two numbers from the user and performs the following: Adds them together, Subtracts the second number from the first, Multiplies them, Divides the first by the second, Checks if the first number is greater than the second. \"\"\"\n",
    "\n",
    "num1 = int(input(\"Initiate first Number\"))\n",
    "num2 = int(input(\"Initiate second Number\"))\n",
    "print(num1+num2)\n",
    "print(num1-num2)\n",
    "print(num1*num2)\n",
    "print(num1/num2)\n",
    "print(num1>num2)"
   ]
  },
  {
   "cell_type": "code",
   "execution_count": 14,
   "metadata": {},
   "outputs": [
    {
     "name": "stdout",
     "output_type": "stream",
     "text": [
      "Allowed to take exam\n"
     ]
    }
   ],
   "source": [
    "\"\"\" 5. A student can enter an exam only if they have attended at least 75% of classes and have submitted the assignment. Write a program that asks for the student's attendance percentage and whether they submitted the assignment (True/False). Print \"Allowed to take exam\" if both conditions are met, otherwise print \"Not allowed.\"  \"\"\"\n",
    "\n",
    "studentPercentage = int(input(\"Provide your Attendance Percentage \"))\n",
    "submitAssignment = (input('Are you Submit your Assignment?? Given me answer only true and false'))\n",
    "\n",
    "if(studentPercentage>= 75 and submitAssignment.lower() == 'true'): \n",
    "    print('Allowed to take exam')\n",
    "else: \n",
    "    print('Not Allowed')"
   ]
  },
  {
   "cell_type": "code",
   "execution_count": 17,
   "metadata": {},
   "outputs": [
    {
     "name": "stdout",
     "output_type": "stream",
     "text": [
      "Zero\n"
     ]
    }
   ],
   "source": [
    "\"\"\" 6. Write a program that checks whether a number entered by the user is positive, negative, or zero. \"\"\"\n",
    "\n",
    "num = int(input('Initiate a Number'))\n",
    "if(num>0):\n",
    "    print('Positive')\n",
    "elif num<0:\n",
    "    print('Negative')\n",
    "else:\n",
    "    print('Zero')"
   ]
  },
  {
   "cell_type": "code",
   "execution_count": 21,
   "metadata": {},
   "outputs": [
    {
     "name": "stdout",
     "output_type": "stream",
     "text": [
      "No discount\n"
     ]
    }
   ],
   "source": [
    "\"\"\" Create a discount system for a shop. If the bill amount is greater than 500tk, apply a 10% discount. If the bill is greater than 1000tk apply a 20% discount. Otherwise, no discount. Take the bill amount as input and print the final price after applying the discount.\"\"\"\n",
    "\n",
    "shopBill = int(input('Provide how much bill you have done in this shop? '))\n",
    "if(shopBill>=500 and shopBill < 1000):\n",
    "    discount = shopBill*(10/100)\n",
    "    print('You need to pay: ', shopBill - discount)\n",
    "elif shopBill>=1000:\n",
    "    discount = shopBill*(20/100)\n",
    "    print('You need to pay: ', shopBill - discount)\n",
    "else:\n",
    "    print(\"No discount\")"
   ]
  }
 ],
 "metadata": {
  "kernelspec": {
   "display_name": "Python 3",
   "language": "python",
   "name": "python3"
  },
  "language_info": {
   "codemirror_mode": {
    "name": "ipython",
    "version": 3
   },
   "file_extension": ".py",
   "mimetype": "text/x-python",
   "name": "python",
   "nbconvert_exporter": "python",
   "pygments_lexer": "ipython3",
   "version": "3.13.2"
  }
 },
 "nbformat": 4,
 "nbformat_minor": 2
}
