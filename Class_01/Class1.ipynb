{
 "cells": [
  {
   "cell_type": "markdown",
   "metadata": {},
   "source": [
    "## Basic Python"
   ]
  },
  {
   "cell_type": "code",
   "execution_count": 12,
   "metadata": {},
   "outputs": [
    {
     "name": "stdout",
     "output_type": "stream",
     "text": [
      "Hello world\n"
     ]
    }
   ],
   "source": [
    "print(\"Hello world\")"
   ]
  },
  {
   "cell_type": "code",
   "execution_count": 13,
   "metadata": {},
   "outputs": [
    {
     "name": "stdout",
     "output_type": "stream",
     "text": [
      "5 redwan\n"
     ]
    }
   ],
   "source": [
    "x=5\n",
    "y='redwan'\n",
    "print(x,y)"
   ]
  },
  {
   "cell_type": "code",
   "execution_count": 14,
   "metadata": {},
   "outputs": [
    {
     "data": {
      "text/plain": [
       "125"
      ]
     },
     "execution_count": 14,
     "metadata": {},
     "output_type": "execute_result"
    }
   ],
   "source": [
    "5**3"
   ]
  },
  {
   "cell_type": "code",
   "execution_count": 15,
   "metadata": {},
   "outputs": [
    {
     "name": "stdout",
     "output_type": "stream",
     "text": [
      "<class 'int'>\n",
      "<class 'str'>\n",
      "<class 'bool'>\n",
      "<class 'float'>\n",
      "<class 'NoneType'>\n"
     ]
    }
   ],
   "source": [
    "x=5\n",
    "print(type(x))\n",
    "y='mango'\n",
    "print(type(y))\n",
    "z=True\n",
    "print(type(z))\n",
    "a=1.07\n",
    "print(type(a))\n",
    "b = None \n",
    "print(type(b))"
   ]
  },
  {
   "cell_type": "code",
   "execution_count": 16,
   "metadata": {},
   "outputs": [
    {
     "data": {
      "text/plain": [
       "35.054054054054056"
      ]
     },
     "execution_count": 16,
     "metadata": {},
     "output_type": "execute_result"
    }
   ],
   "source": [
    "(10*6-20)+15/3.7-9"
   ]
  },
  {
   "cell_type": "markdown",
   "metadata": {},
   "source": [
    "## Calculate the volume of the cylinder "
   ]
  },
  {
   "cell_type": "code",
   "execution_count": 17,
   "metadata": {},
   "outputs": [
    {
     "data": {
      "text/plain": [
       "56504.8176"
      ]
     },
     "execution_count": 17,
     "metadata": {},
     "output_type": "execute_result"
    }
   ],
   "source": [
    "pi = 3.1416\n",
    "radius = float(input('Enter a radius as you want'))\n",
    "height = float(input('Enter a height'))\n",
    "\n",
    "volume = pi * (radius**2) * height\n",
    "volume"
   ]
  },
  {
   "cell_type": "code",
   "execution_count": 18,
   "metadata": {},
   "outputs": [
    {
     "name": "stdout",
     "output_type": "stream",
     "text": [
      "my name is redwan siam\n",
      "The patient fist name is  redwan and last name is  siam\n",
      "The patient redwan siam is very sick\n",
      "Here the patient is redwan siam sick using f string\n"
     ]
    }
   ],
   "source": [
    "first_name = 'redwan'\n",
    "last_name = 'siam'\n",
    "print('my name is ' + first_name + \" \"+ last_name)\n",
    "print(\"The patient fist name is \", first_name , 'and last name is ',last_name)\n",
    "patient= 'The patient {} {} is very sick'.format(first_name,last_name)\n",
    "patient2 = f'Here the patient is {first_name} {last_name} sick using f string'\n",
    "print(patient)\n",
    "print(patient2)"
   ]
  },
  {
   "cell_type": "markdown",
   "metadata": {},
   "source": [
    "## Indexing and Slicing "
   ]
  },
  {
   "cell_type": "code",
   "execution_count": 19,
   "metadata": {},
   "outputs": [
    {
     "data": {
      "text/plain": [
       "'redwan'"
      ]
     },
     "execution_count": 19,
     "metadata": {},
     "output_type": "execute_result"
    }
   ],
   "source": [
    "name = 'redwan hasan'\n",
    "name[0:6]\n"
   ]
  },
  {
   "cell_type": "code",
   "execution_count": 13,
   "metadata": {},
   "outputs": [
    {
     "name": "stdout",
     "output_type": "stream",
     "text": [
      "Printing Jokes\n",
      "Girl: Do you drink? Programmer: No. Girl: Have Girlfriend? Programmer: No. Girl: Then how do you enjoy life? Programmer: I am Programmer\n"
     ]
    },
    {
     "data": {
      "text/plain": [
       "'\\nfor the multiline \\ncommand we are using \\nthat  '"
      ]
     },
     "execution_count": 13,
     "metadata": {},
     "output_type": "execute_result"
    }
   ],
   "source": [
    "import pyjokes\n",
    "print(\"Printing Jokes\")\n",
    "# This is a Simple Joke \n",
    "jokes = pyjokes.get_joke()\n",
    "print(jokes)\n",
    "\n",
    "\"\"\"\n",
    "for the multiline \n",
    "command we are using \n",
    "that  \"\"\""
   ]
  },
  {
   "cell_type": "markdown",
   "metadata": {},
   "source": [
    "## Problem 1"
   ]
  },
  {
   "cell_type": "code",
   "execution_count": 21,
   "metadata": {},
   "outputs": [
    {
     "name": "stdout",
     "output_type": "stream",
     "text": [
      " Twinkle, twinkle, little star,\n",
      "How I wonder what you are!\n",
      "Up above the world so high,\n",
      "Like a diamond in the sky.\n",
      "\n",
      "When the blazing sun is gone,\n",
      "When he nothing shines upon,\n",
      "Then you show your little light,\n",
      "Twinkle, twinkle, all the night.\n",
      "\n",
      "Then the traveler in the dark,\n",
      "Thanks you for your tiny spark,\n",
      "He could not see which way to go,\n",
      "If you did not twinkle so.\n",
      "\n",
      "In the dark blue sky you keep,\n",
      "And often thro' my curtains peep,\n",
      "For you never shut your eye,\n",
      "Till the sun is in the sky.\n",
      "\n",
      "'Tis your bright and tiny spark,\n",
      "Lights the traveler in the dark:\n",
      "Tho' I know not what you are,\n",
      "Twinkle, twinkle, little star.\n",
      "\n",
      "\n"
     ]
    }
   ],
   "source": [
    "print(''' Twinkle, twinkle, little star,\n",
    "How I wonder what you are!\n",
    "Up above the world so high,\n",
    "Like a diamond in the sky.\n",
    "\n",
    "When the blazing sun is gone,\n",
    "When he nothing shines upon,\n",
    "Then you show your little light,\n",
    "Twinkle, twinkle, all the night.\n",
    "\n",
    "Then the traveler in the dark,\n",
    "Thanks you for your tiny spark,\n",
    "He could not see which way to go,\n",
    "If you did not twinkle so.\n",
    "\n",
    "In the dark blue sky you keep,\n",
    "And often thro' my curtains peep,\n",
    "For you never shut your eye,\n",
    "Till the sun is in the sky.\n",
    "\n",
    "'Tis your bright and tiny spark,\n",
    "Lights the traveler in the dark:\n",
    "Tho' I know not what you are,\n",
    "Twinkle, twinkle, little star.\n",
    "\n",
    "''')"
   ]
  },
  {
   "cell_type": "markdown",
   "metadata": {},
   "source": [
    "## Problem 2"
   ]
  },
  {
   "cell_type": "code",
   "execution_count": 14,
   "metadata": {},
   "outputs": [],
   "source": [
    "import pyttsx3\n",
    "engine = pyttsx3.init()\n",
    "engine.say(\"I love you so much\")\n",
    "engine.runAndWait()"
   ]
  },
  {
   "cell_type": "markdown",
   "metadata": {},
   "source": [
    "## Assignment Operator and Arithmetic Operator"
   ]
  },
  {
   "cell_type": "code",
   "execution_count": 24,
   "metadata": {},
   "outputs": [
    {
     "name": "stdout",
     "output_type": "stream",
     "text": [
      "4\n",
      "11\n"
     ]
    }
   ],
   "source": [
    "a = 6-2 # This is Arithmetic Operator \n",
    "print(a)\n",
    "b=6 \n",
    "# This is Assignment Operator \n",
    "b+=5\n",
    "print(b)"
   ]
  },
  {
   "cell_type": "markdown",
   "metadata": {},
   "source": [
    "# Logical operator"
   ]
  },
  {
   "cell_type": "code",
   "execution_count": 25,
   "metadata": {},
   "outputs": [
    {
     "name": "stdout",
     "output_type": "stream",
     "text": [
      "True or False is  True\n",
      "True or True is  True\n",
      "False or True is  True\n",
      "False or False is  False\n",
      "True and False is  False\n",
      "True and True is  True\n",
      "False and True is  False\n",
      "False and False is  False\n",
      "False\n"
     ]
    }
   ],
   "source": [
    "# Truth table of 'or' \n",
    "print(\"True or False is \", True or False)\n",
    "print(\"True or True is \", True or True)\n",
    "print(\"False or True is \", False or True)\n",
    "print(\"False or False is \", False or False)\n",
    "\n",
    "# Truth table of 'and' \n",
    "print(\"True and False is \", True and False)\n",
    "print(\"True and True is \", True and True)\n",
    "print(\"False and True is \", False and True)\n",
    "print(\"False and False is \", False and False)\n",
    "\n",
    "print(not(True))"
   ]
  },
  {
   "cell_type": "markdown",
   "metadata": {},
   "source": [
    "# Type Conversion"
   ]
  },
  {
   "cell_type": "code",
   "execution_count": 26,
   "metadata": {},
   "outputs": [
    {
     "name": "stdout",
     "output_type": "stream",
     "text": [
      "<class 'float'>\n"
     ]
    }
   ],
   "source": [
    "a = \"31.2\"\n",
    "b = float(a) # a but the type should be float\n",
    "t = type(b) \n",
    "\n",
    "print(t)"
   ]
  },
  {
   "cell_type": "markdown",
   "metadata": {},
   "source": [
    "# Chapter 2 Practice Set "
   ]
  },
  {
   "cell_type": "code",
   "execution_count": 27,
   "metadata": {},
   "outputs": [
    {
     "name": "stdout",
     "output_type": "stream",
     "text": [
      "23\n"
     ]
    }
   ],
   "source": [
    "#Practice 1 \n",
    "num1 = int(input(\"Provide a Number\"))\n",
    "num2 = int(input(\"Provide a Number\"))\n",
    "sum = num1 + num2 \n",
    "print(sum)"
   ]
  },
  {
   "cell_type": "code",
   "execution_count": 28,
   "metadata": {},
   "outputs": [
    {
     "name": "stdout",
     "output_type": "stream",
     "text": [
      "1\n"
     ]
    }
   ],
   "source": [
    "#Practice 2\n",
    "num1 = int(input(\"Provide a Number\"))\n",
    "z = int(input(\"Provide a number you want to divide\"))\n",
    "remainder = num1 % z \n",
    "print(remainder)"
   ]
  },
  {
   "cell_type": "code",
   "execution_count": 29,
   "metadata": {},
   "outputs": [
    {
     "name": "stdout",
     "output_type": "stream",
     "text": [
      "<class 'str'>\n"
     ]
    }
   ],
   "source": [
    "#Practice 3\n",
    "anyType = input('Enter a value')\n",
    "print(type(anyType))"
   ]
  },
  {
   "cell_type": "code",
   "execution_count": 30,
   "metadata": {},
   "outputs": [
    {
     "name": "stdout",
     "output_type": "stream",
     "text": [
      "a is greater than b\n"
     ]
    }
   ],
   "source": [
    "#Practice 4 \n",
    "a = 81 \n",
    "b = 80 \n",
    "c = \"a is greater than b\" if a  > b else \"b is grater than a\"\n",
    "print(c)"
   ]
  },
  {
   "cell_type": "code",
   "execution_count": 32,
   "metadata": {},
   "outputs": [
    {
     "name": "stdout",
     "output_type": "stream",
     "text": [
      "39.5\n"
     ]
    }
   ],
   "source": [
    "#Practice 5 \n",
    "num1 = int(input(\"Provide a Number\"))\n",
    "num2 = int(input(\"Provide a Number\"))\n",
    "avg = (num1 + num2) / 2\n",
    "print(avg)"
   ]
  },
  {
   "cell_type": "code",
   "execution_count": null,
   "metadata": {},
   "outputs": [
    {
     "name": "stdout",
     "output_type": "stream",
     "text": [
      "625\n"
     ]
    }
   ],
   "source": [
    "#Practice 6 \n",
    "num = int(input(\"Provide a Number\"))\n",
    "sqr = num**2\n",
    "print(sqr)"
   ]
  },
  {
   "cell_type": "markdown",
   "metadata": {},
   "source": [
    "# Strings"
   ]
  },
  {
   "cell_type": "code",
   "execution_count": null,
   "metadata": {},
   "outputs": [
    {
     "name": "stdout",
     "output_type": "stream",
     "text": [
      "Red\n",
      "R\n",
      "e\n",
      "d\n",
      "w\n",
      "a\n",
      "n\n",
      "edwa\n",
      "edwa\n"
     ]
    }
   ],
   "source": [
    "name = 'Redwan'\n",
    "index = name[0:3]\n",
    "print(index)\n",
    "print(name[0])\n",
    "print(name[1])\n",
    "print(name[2])\n",
    "print(name[3])\n",
    "print(name[4])\n",
    "print(name[5])\n",
    "\n",
    "print(name[-5:-1]) # it is same to -5:-1 and 1:5 the two of ones are equally same\n",
    "print(name[1:5]) "
   ]
  },
  {
   "cell_type": "markdown",
   "metadata": {},
   "source": [
    "# Slicing with Skip Value"
   ]
  },
  {
   "cell_type": "code",
   "execution_count": 15,
   "metadata": {},
   "outputs": [
    {
     "name": "stdout",
     "output_type": "stream",
     "text": [
      "mzn\n",
      "RHi\n"
     ]
    }
   ],
   "source": [
    "word = 'Amazing'\n",
    "print(word[1:6:2])\n",
    "name = 'RedwanHasanSiam'\n",
    "print(name[0:15:6])"
   ]
  },
  {
   "cell_type": "markdown",
   "metadata": {},
   "source": [
    "# Strings Function"
   ]
  },
  {
   "cell_type": "code",
   "execution_count": 46,
   "metadata": {},
   "outputs": [
    {
     "name": "stdout",
     "output_type": "stream",
     "text": [
      "False\n",
      "False\n",
      "Redwan hasan siam\n",
      "REDWAN HASAN SIAM\n",
      "redwan hasan siam\n",
      "Redwan\n",
      "Redwan is a best best best boy\n",
      "['apple', 'banana', 'mango', 'peanut', 'orange']\n",
      "Lion Tiger Deer Cow Goat\n",
      "13\n",
      "7\n",
      "Redwan Hasan Siam\n",
      "True\n",
      "True\n",
      "True\n",
      "True\n"
     ]
    }
   ],
   "source": [
    "name = 'redwan hasan siam'\n",
    "name2 = '          Redwan         '\n",
    "fruits = \"apple,banana,mango,peanut,orange\"\n",
    "animals = ['Lion','Tiger','Deer','Cow','Goat']\n",
    "name3 = 'Redwan is a good good good boy'\n",
    "print(name.endswith('san'))\n",
    "print(name.startswith('wan'))\n",
    "print(name.capitalize())\n",
    "print(name.upper())\n",
    "print(name.lower())\n",
    "print(name2.strip())\n",
    "print(name3.replace('good','best'))\n",
    "print(fruits.split(','))\n",
    "print(\" \".join(animals))\n",
    "print(name.find('siam'))\n",
    "print(fruits.count('a'))\n",
    "print(name.title())\n",
    "print(\"hello\".islower()) \n",
    "print(\"123\".isdigit())    \n",
    "print(\"abc\".isalpha())   \n",
    "print(\"abc123\".isalnum()) \n"
   ]
  },
  {
   "cell_type": "code",
   "execution_count": null,
   "metadata": {},
   "outputs": [
    {
     "name": "stdout",
     "output_type": "stream",
     "text": [
      "5\n",
      "hello\n",
      "HELLO\n",
      "Hello\n",
      "  Hexxo  \n",
      "['apple', 'banana', 'orange']\n",
      "Hello World\n",
      "6\n",
      "True\n",
      "True\n",
      "5\n",
      "Hello world\n",
      "Hello World\n",
      "True\n",
      "True\n",
      "True\n",
      "True\n",
      "Hello  \n",
      "  Hello\n",
      "hELLO wORLD\n",
      "00042\n",
      "--Hello---\n",
      "Hello-----\n",
      "-----Hello\n",
      "('apple', '-', 'banana-orange')\n",
      "('apple-banana', '-', 'orange')\n",
      "Hello   World\n",
      "hello ss\n",
      "23\n",
      "b'Hello'\n",
      "Hello\n",
      "24\n",
      "h2ll4 w4rld\n",
      "True\n",
      "True\n",
      "True\n"
     ]
    }
   ],
   "source": [
    "#1. len() – Get the length of a string\n",
    "s = \"Hello\"\n",
    "print(len(s))  # Output: 5\n",
    "\n",
    "#2. lower() – Convert string to lowercase\n",
    "s = \"Hello\"\n",
    "print(s.lower())  # Output: \"hello\"\n",
    "\n",
    "#3. upper() – Convert string to uppercase\n",
    "print(s.upper())  # Output: \"HELLO\"\n",
    "\n",
    "#4. strip() – Remove leading and trailing whitespace\n",
    "s = \"  Hello  \"\n",
    "print(s.strip())  # Output: \"Hello\"\n",
    "\n",
    "#5. replace(old, new) – Replace a substring\n",
    "print(s.replace(\"l\", \"x\"))  # Output: \"Hexxo\"\n",
    "\n",
    "#6. split(separator) – Split string into a list\n",
    "s = \"apple,banana,orange\"\n",
    "print(s.split(\",\"))  # Output: ['apple', 'banana', 'orange']\n",
    "\n",
    "#7. join(iterable) – Join elements of a list into a string\n",
    "words = [\"Hello\", \"World\"]\n",
    "print(\" \".join(words))  # Output: \"Hello World\"\n",
    "\n",
    "#8. find(substring) – Find the index of a substring (-1 if not found)\n",
    "print(s.find(\"banana\"))  # Output: 6\n",
    "\n",
    "\n",
    "#9. startswith(prefix) & endswith(suffix) – Check start/end\n",
    "print(s.startswith(\"apple\"))  # Output: True\n",
    "print(s.endswith(\"orange\"))   # Output: True\n",
    "\n",
    "\n",
    "#10. count(substring) – Count occurrences of a substring\n",
    "print(s.count(\"a\"))  # Output: 5\n",
    "\n",
    "\n",
    "#11. capitalize() – Capitalize the first letter\n",
    "s = \"hello world\"\n",
    "print(s.capitalize())  # Output: \"Hello world\"\n",
    "\n",
    "#12. title() – Capitalize the first letter of each word\n",
    "\n",
    "print(s.title())  # Output: \"Hello World\"\n",
    "\n",
    "#13. islower(), isupper(), isdigit(), isalpha(), isalnum() – Check character properties\n",
    "print(\"hello\".islower())  # Output: True\n",
    "print(\"123\".isdigit())    # Output: True\n",
    "print(\"abc\".isalpha())    # Output: True\n",
    "print(\"abc123\".isalnum()) # Output: True\n",
    "\n",
    "\n",
    "#14. lstrip() & rstrip() – Remove leading/trailing whitespace\n",
    "s = \"  Hello  \"\n",
    "print(s.lstrip())  # Output: \"Hello  \"\n",
    "print(s.rstrip())  # Output: \"  Hello\"\n",
    "\n",
    "#15. swapcase() – Swap uppercase and lowercase\n",
    "s = \"Hello World\"\n",
    "print(s.swapcase())  # Output: \"hELLO wORLD\"\n",
    "\n",
    "\n",
    "#16. zfill(width) – Pad string with zeros\n",
    "s = \"42\"\n",
    "print(s.zfill(5))  # Output: \"00042\"\n",
    "\n",
    "\n",
    "#17. center(width, fillchar) – Center text with padding\n",
    "s = \"Hello\"\n",
    "print(s.center(10, \"-\"))  # Output: \"--Hello---\"\n",
    "\n",
    "#18. ljust(width, fillchar) & rjust(width, fillchar) – Justify text\n",
    "print(s.ljust(10, \"-\"))  # Output: \"Hello-----\"\n",
    "print(s.rjust(10, \"-\"))  # Output: \"-----Hello\"\n",
    "\n",
    "\n",
    "#19. partition(separator) – Split into three parts\n",
    "s = \"apple-banana-orange\"\n",
    "print(s.partition(\"-\"))  \n",
    "# Output: ('apple', '-', 'banana-orange')\n",
    "\n",
    "\n",
    "#20. rpartition(separator) – Split into three parts from the right\n",
    "print(s.rpartition(\"-\"))  \n",
    "# Output: ('apple-banana', '-', 'orange')\n",
    "\n",
    "\n",
    "#21. expandtabs(tabsize) – Convert tab spaces\n",
    "s = \"Hello\\tWorld\"\n",
    "print(s.expandtabs(4))  # Output: \"Hello   World\"\n",
    "\n",
    "\n",
    "#22. casefold() – Convert to lowercase (more aggressive than lower())\n",
    "s = \"HELLO ß\"\n",
    "print(s.casefold())  # Output: \"hello ss\"\n",
    "\n",
    "\n",
    "#23. encode(encoding) & decode(encoding) – Encode and decode strings\n",
    "s = \"Hello\"\n",
    "encoded = s.encode(\"utf-8\")  \n",
    "print(\"23\")\n",
    "print(encoded)  # Output: b'Hello'\n",
    "print(encoded.decode(\"utf-8\"))  # Output: \"Hello\"\n",
    "\n",
    "\n",
    "#24. maketrans() & translate() – Replace multiple characters\n",
    "print(\"24\")\n",
    "table = str.maketrans(\"aeiou\", \"12345\")\n",
    "print(\"hello world\".translate(table))  # Output: \"h2ll4 w4rld\"\n",
    "\n",
    "\n",
    "#25. isdecimal(), isdigit(), isnumeric() – Check number properties\n",
    "print(\"123\".isdecimal())  # Output: True\n",
    "print(\"123\".isdigit())    # Output: True\n",
    "print(\"½\".isnumeric())    # Output: True\n",
    "\n",
    "\"\"\" \n",
    "Function\tPurpose\n",
    "casefold()\tConverts to lowercase, handling special cases like ß → ss\n",
    "encode()\tConverts string → bytes\n",
    "decode()\tConverts bytes → string\n",
    "maketrans()\tCreates a translation table for replacing characters\n",
    "translate()\tReplaces characters based on maketrans() mapping\n",
    "\"\"\""
   ]
  },
  {
   "cell_type": "markdown",
   "metadata": {},
   "source": [
    "## Escape Sequence"
   ]
  },
  {
   "cell_type": "code",
   "execution_count": null,
   "metadata": {},
   "outputs": [],
   "source": [
    "\"\"\" \n",
    "Escape Sequences in Python\n",
    "Escape sequences are special characters used inside strings to represent things like new lines, tabs, or special symbols.\n",
    "\n",
    "Common Escape Sequences:\n",
    "Escape Sequence\tMeaning\tExample\tOutput\n",
    "\\n\tNew line\t\"Hello\\nWorld\"\tHello World\n",
    "\\t\tTab (adds space)\t\"Hello\\tWorld\"\tHello World\n",
    "\\\\\tBackslash\t\"C:\\\\Users\\\\Name\"\tC:\\Users\\Name\n",
    "\\'\tSingle quote\t'It\\'s Python'\tIt's Python\n",
    "\\\"\tDouble quote\t\"He said \\\"Hello\\\"\"\tHe said \"Hello\"\n",
    "\\r\tCarriage return (moves cursor to the start of the line)\t\"Hello\\rWorld\"\tWorld (overwrites \"Hello\")\n",
    "\\b\tBackspace (deletes previous character)\t\"Hello\\bWorld\"\tHellWorld\n",
    "\\f\tForm feed (used in printing, moves to new page)\t\"Hello\\fWorld\"\tHello (new page) World\n",
    "\\v\tVertical tab\t\"Hello\\vWorld\"\tHello ⬇ World\n",
    "\\0\tNull character (used to terminate strings)\t\"Hello\\0World\"\tHello (null character) World\n",
    "\"\"\""
   ]
  },
  {
   "cell_type": "code",
   "execution_count": 57,
   "metadata": {},
   "outputs": [
    {
     "name": "stdout",
     "output_type": "stream",
     "text": [
      "Redwan is a good boy \n",
      " but not a bad \t \"boy\"\n",
      "Hello\n",
      "World\n",
      "Hello\tWorld\n",
      "It's Python\n",
      "He said \"Hello\"\n",
      "C:\\Users\\Name\n",
      "HellWorld\n",
      "World\n",
      "C:\\Users\\Name\n"
     ]
    }
   ],
   "source": [
    "name = 'Redwan is a good boy \\n but not a bad \\t \\\"boy\\\"'\n",
    "print(name)\n",
    "\n",
    "print(\"Hello\\nWorld\")  # New line\n",
    "print(\"Hello\\tWorld\")  # Tab space\n",
    "print(\"It\\'s Python\")  # Single quote\n",
    "print(\"He said \\\"Hello\\\"\")  # Double quote\n",
    "print(\"C:\\\\Users\\\\Name\")  # Backslash\n",
    "print(\"Hello\\bWorld\")  # Backspace\n",
    "print(\"Hello\\rWorld\")  # Carriage return\n",
    "print(r\"C:\\Users\\Name\")  # Output: C:\\Users\\Name\n"
   ]
  },
  {
   "cell_type": "markdown",
   "metadata": {},
   "source": [
    "## Practice Problem"
   ]
  },
  {
   "cell_type": "code",
   "execution_count": 59,
   "metadata": {},
   "outputs": [
    {
     "name": "stdout",
     "output_type": "stream",
     "text": [
      "Good Afternoon Redwan Hasan\n"
     ]
    }
   ],
   "source": [
    "#Practice 1 \n",
    "name = input(\"Enter your name\")\n",
    "print(f\"Good Afternoon {name}\")"
   ]
  },
  {
   "cell_type": "code",
   "execution_count": null,
   "metadata": {},
   "outputs": [
    {
     "name": "stdout",
     "output_type": "stream",
     "text": [
      "Dear Redwan,you are selected! 16 March 2025\n"
     ]
    }
   ],
   "source": [
    "#Practice 2\n",
    "letter = 'Dear <|Name|>,you are selected! <|Date|>'\n",
    "print(letter.replace(\"<|Name|>\",\"Redwan\").replace(\"<|Date|>\",\"16 March 2025\")) #This is called chaining"
   ]
  },
  {
   "cell_type": "code",
   "execution_count": null,
   "metadata": {},
   "outputs": [
    {
     "name": "stdout",
     "output_type": "stream",
     "text": [
      "9\n",
      "Hey whats up and what is your name\n",
      "Hey whats  up and  what  is your  name\n"
     ]
    }
   ],
   "source": [
    "#Practice 3 & 4\n",
    "greetings = 'Hey whats  up and  what  is your  name' #immutable of a string.\n",
    "print(greetings.find(\"  \"))\n",
    "print(greetings.replace(\"  \",\" \"))\n",
    "print(greetings) #Strings are immutable which means that we cannot change then by running functions on them"
   ]
  },
  {
   "cell_type": "code",
   "execution_count": 12,
   "metadata": {},
   "outputs": [
    {
     "name": "stdout",
     "output_type": "stream",
     "text": [
      "Dear Harry,\n",
      "\tThis python course is nice.\n",
      "Thanks!\n"
     ]
    }
   ],
   "source": [
    "#Practice 5\n",
    "letter = \"Dear Harry,\\n\\tThis python course is nice.\\nThanks!\"\n",
    "print(letter)"
   ]
  }
 ],
 "metadata": {
  "kernelspec": {
   "display_name": "Python 3",
   "language": "python",
   "name": "python3"
  },
  "language_info": {
   "codemirror_mode": {
    "name": "ipython",
    "version": 3
   },
   "file_extension": ".py",
   "mimetype": "text/x-python",
   "name": "python",
   "nbconvert_exporter": "python",
   "pygments_lexer": "ipython3",
   "version": "3.13.2"
  }
 },
 "nbformat": 4,
 "nbformat_minor": 2
}
