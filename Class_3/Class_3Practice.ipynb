{
 "cells": [
  {
   "cell_type": "markdown",
   "metadata": {
    "id": "kLZ_vCeE0lsM"
   },
   "source": [
    "###`Problem 1:` Combine two lists index-wise(columns wise)\n",
    "\n",
    "Write a program to add two lists index-wise. Create a new list that contains the 0th index item from both the list, then the 1st index item, and so on till the last element. any leftover items will get added at the end of the new list.\n",
    "\n",
    "`Given List:`\n",
    "```\n",
    "list1 = [\"M\", \"na\", \"i\", \"Kh\"]\n",
    "list2 = [\"y\", \"me\", \"s\", \"an\"]\n",
    "```\n",
    "\n",
    "`Output:`\n",
    "```\n",
    "[['M','y'], ['na', me'], ['i', 's'], ['Kh', 'an']]\n",
    "```"
   ]
  },
  {
   "cell_type": "code",
   "execution_count": 6,
   "metadata": {
    "colab": {
     "base_uri": "https://localhost:8080/"
    },
    "id": "cDO3Yv6p0nnG",
    "outputId": "61616051-b5fd-4fbe-a248-dda198e9c4ed"
   },
   "outputs": [
    {
     "name": "stdout",
     "output_type": "stream",
     "text": [
      "[['M', 'y'], ['na', 'me'], ['i', 's'], ['Kh', 'an']]\n"
     ]
    }
   ],
   "source": [
    "# Write code here\n",
    "list1 = [\"M\", \"na\", \"i\", \"Kh\"]\n",
    "list2 = [\"y\", \"me\", \"s\", \"an\"]\n",
    "list3 = [] #create a blank list where we store value of concatenating list.\n",
    "if len(list1) == len(list2):\n",
    "    for i in range(len(list1)):#iterations the index of the list.\n",
    "        list3.append([list1[i],list2[i]]) #concatenating the elements of list1 and list2 and adding them to list3. list1[i]andlist[i]=list elements\n",
    "else:\n",
    "    print(\"The lists are not of equal length.\")\n",
    "print(list3)\n"
   ]
  },
  {
   "cell_type": "markdown",
   "metadata": {
    "id": "bnRwRgf_0qLu"
   },
   "source": [
    "### `Problem 2:` Add new item to list after a specified item\n",
    "Write a program to add item 7000 after 6000 in the following Python List\n",
    "```\n",
    "list1 = [10, 20, [300, 400, [5000, 6000], 500], 30, 40]\n",
    "```\n",
    "`Output:`\n",
    "```\n",
    "[10, 20, [300, 400, [5000, 6000, 7000], 500], 30, 40]\n",
    "```"
   ]
  },
  {
   "cell_type": "code",
   "execution_count": 13,
   "metadata": {
    "colab": {
     "base_uri": "https://localhost:8080/"
    },
    "id": "yW5lLPns00q9",
    "outputId": "3d8f1f88-1344-4ff4-85bc-cf91255bb7b5"
   },
   "outputs": [
    {
     "name": "stdout",
     "output_type": "stream",
     "text": [
      "[10, 20, [300, 400, [5000, 6000, 7000], 500], 30, 40]\n"
     ]
    }
   ],
   "source": [
    "# Write code here\n",
    "list1 = [10, 20, [300, 400, [5000, 6000], 500], 30, 40] #nested list\n",
    "list1[2][2].append(7000) #The value 7000 has been appended to index 2 of the list.\n",
    "print(list1)"
   ]
  },
  {
   "cell_type": "markdown",
   "metadata": {
    "id": "w7fC8oHk02fH"
   },
   "source": [
    "###`Problem 3:` Update no of items available\n",
    "\n",
    "Suppose you are given a list of candy and another list of same size representing no of items of respective candy.\n",
    "\n",
    "i.e -  \n",
    "```\n",
    "candy_list = ['Jelly Belly','Kit Kat','Double Bubble','Milky Way','Three Musketeers']\n",
    "no_of_items = [10,20,34,74,32]\n",
    "```\n",
    "\n",
    "Write a program to show no. of items of each candy type.\n",
    "\n",
    "`Output:`\n",
    "\n",
    "```\n",
    "Jelly Belly-10\n",
    "Kit Kat-20\n",
    "Double Bubble-34\n",
    "Milky Way-74\n",
    "Three Musketeers-32\n",
    "\n",
    "```"
   ]
  },
  {
   "cell_type": "code",
   "execution_count": 15,
   "metadata": {
    "colab": {
     "base_uri": "https://localhost:8080/"
    },
    "id": "gg5JEX1a09q8",
    "outputId": "61275c2b-5571-456d-8eaa-445dfb284179"
   },
   "outputs": [
    {
     "name": "stdout",
     "output_type": "stream",
     "text": [
      "Jelly Belly - 10\n",
      "Kit Kat - 20\n",
      "Double Bubble - 34\n",
      "Milky Way - 74\n",
      "Three Musketeers - 32\n"
     ]
    }
   ],
   "source": [
    "# Write code here\n",
    "candy_list = ['Jelly Belly','Kit Kat','Double Bubble','Milky Way','Three Musketeers']\n",
    "no_of_items = [10,20,34,74,32]\n",
    "if len(candy_list)==len(no_of_items): #length must be equal\n",
    "    for i in range(len(candy_list)): #iterations the index of the list.\n",
    "        print(candy_list[i],\"-\",no_of_items[i]) #candy_list[i],no_of_items[i] = list elements\n",
    "else:\n",
    "    print(\"The lists are not of equal length.\")"
   ]
  },
  {
   "cell_type": "markdown",
   "metadata": {
    "id": "mFGZAvnB1D3N"
   },
   "source": [
    "###`Problem 4:` Running Sum on list\n",
    "Write a program to print a list after performing running sum on it.\n",
    "\n",
    "i.e:\n",
    "\n",
    "`Input:`\n",
    "```\n",
    "list1 = [1,2,3,4,5,6]\n",
    "```\n",
    "`Output:`\n",
    "```\n",
    "[1,3,6,10,15,21]\n",
    "```"
   ]
  },
  {
   "cell_type": "code",
   "execution_count": 21,
   "metadata": {
    "colab": {
     "base_uri": "https://localhost:8080/"
    },
    "id": "8LPS6DaD1FTs",
    "outputId": "42af0acd-6cd9-4e20-8187-d581a2750ddf"
   },
   "outputs": [
    {
     "name": "stdout",
     "output_type": "stream",
     "text": [
      "[1, 3, 6, 10, 15, 21]\n"
     ]
    }
   ],
   "source": [
    "# Write code here\n",
    "list1 = [1,2,3,4,5,6]\n",
    "running_sum = []\n",
    "total = 0\n",
    "for i in list1: #iterate the list\n",
    "    total = total+i #sum of the list element\n",
    "    running_sum.append(total)\n",
    "print(running_sum)"
   ]
  },
  {
   "cell_type": "markdown",
   "metadata": {
    "id": "2ztcZ-EW1HEU"
   },
   "source": [
    "###`Problem 5:` You are given a list of integers. You are asked to make a list by running through elements of the list by adding all elements greater and itself.\n",
    "\n",
    "i.e. Say given list is `[2,4,6,10,1]`\n",
    "resultant list will be `[22,20,10,23]`.\n",
    "\n",
    "For 1st element `2` ->> these are greater `(4+6+10)` values and `2` itself so on adding becomes `22`.\n",
    "\n",
    "For 2nd element `4` ->> greater elements are `(6, 10)` and `4` itself, so on adding `20`\n",
    "\n",
    "like wise for all other elememts.\n",
    "\n",
    "`[2,4,6,10,1]`-->`[22,20,16,10,23]`\n",
    "\n",
    "\n"
   ]
  },
  {
   "cell_type": "code",
   "execution_count": 29,
   "metadata": {
    "colab": {
     "base_uri": "https://localhost:8080/"
    },
    "id": "UJuWqzj31UD2",
    "outputId": "cf7832be-cfd3-49b0-fa1d-4051aeaa7295"
   },
   "outputs": [
    {
     "name": "stdout",
     "output_type": "stream",
     "text": [
      "[24, 24, 22, 20, 2]\n"
     ]
    }
   ],
   "source": [
    "# Write code here"
   ]
  },
  {
   "cell_type": "markdown",
   "metadata": {
    "id": "c9H6tYTx1ZYo"
   },
   "source": [
    "###`Problem 6:` Find list of common unique items from two list. and show in increasing order\n",
    "\n",
    "`Input`\n",
    "\n",
    "```\n",
    "num1 = [23,45,67,78,89,34]\n",
    "num2 = [34,89,55,56,39,67]\n",
    "```\n",
    "\n",
    "`Output:`\n",
    "```\n",
    "[34, 67, 89]\n",
    "```\n"
   ]
  },
  {
   "cell_type": "code",
   "execution_count": 31,
   "metadata": {
    "colab": {
     "base_uri": "https://localhost:8080/"
    },
    "id": "dDxdi7eE1e1W",
    "outputId": "da9ff77f-adf5-45e5-81ed-dcfaabc24e30"
   },
   "outputs": [
    {
     "name": "stdout",
     "output_type": "stream",
     "text": [
      "Common unique elements in increasing order: [34, 67, 89]\n"
     ]
    }
   ],
   "source": [
    "# Write code here\n",
    "num1 = [23, 45, 67, 78, 89, 34]\n",
    "num2 = [34, 89, 55, 56, 39, 67]\n",
    "# Convert lists to sets(set is containing only unique values)\n",
    "set1 = set(num1)\n",
    "set2 = set(num2)\n",
    "#intersection of both sets\n",
    "c_e = set1 & set2\n",
    "# Sort the common elements in increasing order\n",
    "s = sorted(c_e)\n",
    "print(\"Common unique elements in increasing order:\", s)"
   ]
  },
  {
   "cell_type": "markdown",
   "metadata": {
    "id": "McMaNSpB1zJB"
   },
   "source": [
    "\n",
    "**Problem 8:** Split a string from a list into individual words.\n",
    "\n",
    "**Example:**\n",
    "\n",
    "Input:\n",
    "```bash\n",
    "['This is a test', 'for splitting', 'strings into words.']\n",
    "```\n",
    "\n",
    "Output:\n",
    "```bash\n",
    "['This', 'is', 'a', 'test', 'for', 'splitting', 'strings', 'into', 'words.']\n",
    "```"
   ]
  },
  {
   "cell_type": "code",
   "execution_count": 32,
   "metadata": {
    "colab": {
     "base_uri": "https://localhost:8080/"
    },
    "id": "rLg6AUhf14wI",
    "outputId": "101b6e9f-a689-4270-bf6e-53d4998bfe6b"
   },
   "outputs": [
    {
     "name": "stdout",
     "output_type": "stream",
     "text": [
      "['This', 'is', 'a', 'test', 'for', 'splitting', 'strings', 'into', 'words.']\n"
     ]
    }
   ],
   "source": [
    "# Write code here\n",
    "l = ['This is a test', 'for splitting', 'strings into words.']\n",
    "l1 = []\n",
    "for i in l:\n",
    "    l1.extend(i.split())\n",
    "print(l1)"
   ]
  },
  {
   "cell_type": "markdown",
   "metadata": {
    "id": "ebqIC0Xa16dG"
   },
   "source": [
    "\n",
    "### `Problem 9:` Convert a character matrix to a single string using string comprehension.\n",
    "\n",
    "**Example 1:**\n",
    "\n",
    "Input:\n",
    "```bash\n",
    "[['t', 'h', 'i', 's'], ['i', 's'], ['a'], ['t', 'e', 's', 't']]\n",
    "```\n",
    "\n",
    "Output:\n",
    "```bash\n",
    "this is a test\n",
    "```"
   ]
  },
  {
   "cell_type": "code",
   "execution_count": 33,
   "metadata": {
    "colab": {
     "base_uri": "https://localhost:8080/"
    },
    "id": "KLKxzyZf2BLr",
    "outputId": "0c935bb2-7cb0-47d2-dc1a-f1830b1c1223"
   },
   "outputs": [
    {
     "name": "stdout",
     "output_type": "stream",
     "text": [
      "this is a test "
     ]
    }
   ],
   "source": [
    "# Write code here\n",
    "l = [['t', 'h', 'i', 's'], ['i', 's'], ['a'], ['t', 'e', 's', 't']]\n",
    "for i in l:\n",
    "    print(\"\".join(i),end=\" \")"
   ]
  },
  {
   "cell_type": "markdown",
   "metadata": {
    "id": "0v1Z3Snp2DAm"
   },
   "source": [
    "Here's the edited version of the problem:\n",
    "\n",
    "---\n",
    "\n",
    "### `Problem 10:` Add spaces between potential words in a string.\n",
    "\n",
    "**Example:**\n",
    "\n",
    "Input:\n",
    "```bash\n",
    "['thisIs', 'aTest', 'forStringSplit']\n",
    "```\n",
    "\n",
    "Output:\n",
    "```bash\n",
    "['this Is', 'a Test', 'for String Split']\n",
    "```"
   ]
  },
  {
   "cell_type": "code",
   "execution_count": 40,
   "metadata": {
    "colab": {
     "base_uri": "https://localhost:8080/"
    },
    "id": "pltvqSXa2IxP",
    "outputId": "a14e05e9-d8ff-4a22-88ed-3baad78bd1bc"
   },
   "outputs": [
    {
     "name": "stdout",
     "output_type": "stream",
     "text": [
      "['this Is', 'a Test', 'for String Split']\n"
     ]
    }
   ],
   "source": [
    "# Code here\n",
    "l = ['thisIs', 'aTest', 'forStringSplit']\n",
    "l1 = []\n",
    "\n",
    "for word in l:\n",
    "    result = word[0]  # Start with the first character\n",
    "    for i in range(1, len(word)):\n",
    "        if word[i].isupper() and word[i-1].islower():\n",
    "            result = result+' '  # Add a space before the uppercase letter\n",
    "        result = result+word[i]\n",
    "    l1.append(result)\n",
    "\n",
    "print(l1)"
   ]
  },
  {
   "cell_type": "markdown",
   "metadata": {
    "id": "Yt8x67Ch3Ow1"
   },
   "source": [
    "### `Problem 11:` Write a program that can find the max number of each row of a matrix\n",
    "\n",
    "**Example:**\n",
    "\n",
    "Input:\n",
    "\n",
    "```bash\n",
    "[[1,2,3],[4,5,6],[7,8,9]]\n",
    "```\n",
    "\n",
    "Output:\n",
    "```bash\n",
    "[3,6,9]\n",
    "```"
   ]
  },
  {
   "cell_type": "code",
   "execution_count": 45,
   "metadata": {
    "colab": {
     "base_uri": "https://localhost:8080/"
    },
    "id": "7QopAaAI3noh",
    "outputId": "3dc8ff69-2e3a-45dc-df25-146d49e4de08"
   },
   "outputs": [
    {
     "name": "stdout",
     "output_type": "stream",
     "text": [
      "[3, 6, 9]\n"
     ]
    }
   ],
   "source": [
    "# Write code here\n",
    "# Define the matrix\n",
    "matrix = [[1, 2, 3], [4, 5, 6], [7, 8, 9]]\n",
    "\n",
    "# Initialize an empty list to store the maximum values\n",
    "max_values = []\n",
    "\n",
    "# Iterate through each row in the matrix\n",
    "for row in matrix:\n",
    "    # Find the maximum value in the current row and append it to the list\n",
    "    max_values.append(max(row))\n",
    "\n",
    "# Print the list of maximum values\n",
    "print(max_values)"
   ]
  },
  {
   "cell_type": "markdown",
   "metadata": {
    "id": "DBZlUmnt3pGT"
   },
   "source": [
    "### `Problem 13:` Write a list comprehension to print the following matrix\n",
    "\n",
    "[[0, 1, 2], [3, 4, 5], [6, 7, 8]]"
   ]
  },
  {
   "cell_type": "code",
   "execution_count": 47,
   "metadata": {
    "colab": {
     "base_uri": "https://localhost:8080/"
    },
    "id": "Ip4e8M-S356h",
    "outputId": "f5e51f1a-ca13-4f57-b481-f52ff0db0fb4"
   },
   "outputs": [
    {
     "name": "stdout",
     "output_type": "stream",
     "text": [
      "[[0, 1, 2], [3, 4, 5], [6, 7, 8]]\n"
     ]
    }
   ],
   "source": [
    "# Write code here\n",
    "matrix = [[i * 3 + j for j in range(len(matrix))] for i in range(len(matrix))]\n",
    "print(matrix)"
   ]
  },
  {
   "cell_type": "markdown",
   "metadata": {
    "id": "zELOPYB7e4hO"
   },
   "source": [
    "Explanation:\n",
    "\n",
    "    The outer list comprehension for i in range(len(matrix)) iterates over the rows of the matrix.​\n",
    "    The inner list comprehension for j in range(len(matrix)) iterates over the columns within each row.​\n",
    "    The expression i * 3 + j calculates the value to be placed at position (i, j) in the matrix."
   ]
  },
  {
   "cell_type": "markdown",
   "metadata": {
    "id": "AIKN_A-rALP0"
   },
   "source": [
    "### Problem 14: Extract Even Numbers from a List\n",
    "\n",
    "**Task:** Given a list of integers, use list comprehension to create a new list containing only the even numbers.\n",
    "\n",
    "**Example:**\n",
    "\n",
    "Input:\n",
    "```bash\n",
    "[1, 2, 3, 4, 5, 6, 7, 8, 9]\n",
    "```\n",
    "\n",
    "Output:\n",
    "```bash\n",
    "[2, 4, 6, 8]\n",
    "```\n"
   ]
  },
  {
   "cell_type": "code",
   "execution_count": 54,
   "metadata": {
    "colab": {
     "base_uri": "https://localhost:8080/"
    },
    "id": "LmWV2YMHgFir",
    "outputId": "ebff7b1b-59cd-4344-f17e-d869e08a7abc"
   },
   "outputs": [
    {
     "name": "stdout",
     "output_type": "stream",
     "text": [
      "[2, 4, 6, 8]\n"
     ]
    }
   ],
   "source": [
    "l = [1, 2, 3, 4, 5, 6, 7, 8, 9]\n",
    "l1 = []\n",
    "for i in l:\n",
    "    if i%2==0:\n",
    "        l1.append(i)\n",
    "print(l1)"
   ]
  },
  {
   "cell_type": "markdown",
   "metadata": {
    "id": "4HxP504IALP0"
   },
   "source": [
    "### Problem 15: Convert Strings to Uppercase\n",
    "\n",
    "**Task:** Given a list of strings, use list comprehension to convert all strings to uppercase.\n",
    "\n",
    "**Example:**\n",
    "\n",
    "Input:\n",
    "```bash\n",
    "['apple', 'banana', 'cherry']\n",
    "```\n",
    "\n",
    "Output:\n",
    "```bash\n",
    "['APPLE', 'BANANA', 'CHERRY']\n",
    "```\n"
   ]
  },
  {
   "cell_type": "code",
   "execution_count": 48,
   "metadata": {
    "colab": {
     "base_uri": "https://localhost:8080/"
    },
    "id": "1Ye0tFrtfeSe",
    "outputId": "76935569-2bd2-4b87-eaae-12a1e608b92d"
   },
   "outputs": [
    {
     "name": "stdout",
     "output_type": "stream",
     "text": [
      "['APPLE', 'BANANA', 'CHERRY']\n"
     ]
    }
   ],
   "source": [
    "l= ['apple', 'banana', 'cherry']\n",
    "l1 = []\n",
    "for i in l:\n",
    "  i = i.upper()\n",
    "  l1.append(i)\n",
    "\n",
    "print(l1)"
   ]
  },
  {
   "cell_type": "code",
   "execution_count": null,
   "metadata": {
    "id": "8Fcc6_prgBtH"
   },
   "outputs": [],
   "source": []
  }
 ],
 "metadata": {
  "colab": {
   "provenance": []
  },
  "kernelspec": {
   "display_name": "Python 3 (ipykernel)",
   "language": "python",
   "name": "python3"
  },
  "language_info": {
   "codemirror_mode": {
    "name": "ipython",
    "version": 3
   },
   "file_extension": ".py",
   "mimetype": "text/x-python",
   "name": "python",
   "nbconvert_exporter": "python",
   "pygments_lexer": "ipython3",
   "version": "3.13.0"
  }
 },
 "nbformat": 4,
 "nbformat_minor": 4
}
