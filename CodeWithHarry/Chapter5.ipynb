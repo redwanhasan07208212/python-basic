{
 "cells": [
  {
   "cell_type": "markdown",
   "metadata": {},
   "source": [
    "# Dictionaries"
   ]
  },
  {
   "cell_type": "code",
   "execution_count": null,
   "metadata": {},
   "outputs": [
    {
     "name": "stdout",
     "output_type": "stream",
     "text": [
      "{'redwan': 100, 'hasan': 89, 'Rohan': 40, 0: 'Harry'} <class 'dict'>\n",
      "dict_items([('redwan', 100), ('hasan', 89), ('Rohan', 40), (0, 'Harry')])\n",
      "dict_keys(['redwan', 'hasan', 'Rohan', 0])\n",
      "dict_values([100, 89, 40, 'Harry'])\n",
      "{'redwan': 98, 'hasan': 89, 'Rohan': 40, 0: 'Harry', 'supty': 90}\n",
      "None\n",
      "0\n",
      "2\n",
      "{'a': 1, 'c': 3}\n",
      "('c', 3)\n",
      "{'a': 1}\n",
      "{'a': 1, 'books': 40, 'literature': 30}\n"
     ]
    }
   ],
   "source": [
    "marks = {\n",
    "    \"redwan\":100,\n",
    "    \"hasan\":89,\n",
    "    \"Rohan\":40,\n",
    "    0:\"Harry\"\n",
    "}\n",
    "dict = {\n",
    "    \"a\": 1, \n",
    "    \"b\": 2, \n",
    "    \"c\": 3\n",
    "}\n",
    "print(marks,type(marks))\n",
    "print(marks.items())\n",
    "print(marks.keys())\n",
    "print(marks.values())\n",
    "marks.update({\"redwan\":98,\"supty\":90})\n",
    "print(marks)\n",
    "\n",
    "print(marks.get(\"redwan2\")) #print none \n",
    "print(marks.get(\"x\",0)) #print 0\n",
    "# print(marks['redwan2']) # returns an error\n",
    "\n",
    "\n",
    "#pop, popitem and clear\n",
    "print(dict.pop(\"b\"))\n",
    "print(dict)\n",
    "\n",
    "print(dict.popitem())\n",
    "print(dict)\n",
    "\n",
    "dict.update({\"books\":40,\"literature\":30})\n",
    "print(dict)\n",
    "\n",
    "# print(dict.clear())\n",
    "# print(dict)\n",
    "\n",
    "\n"
   ]
  },
  {
   "cell_type": "markdown",
   "metadata": {},
   "source": [
    "# Copying & Creating Dictionaries\n"
   ]
  },
  {
   "cell_type": "code",
   "execution_count": 27,
   "metadata": {},
   "outputs": [
    {
     "name": "stdout",
     "output_type": "stream",
     "text": [
      "{'a': 1, 'books': 40, 'literature': 30}\n"
     ]
    }
   ],
   "source": [
    "dict2 = dict.copy()\n",
    "print(dict2)"
   ]
  },
  {
   "cell_type": "markdown",
   "metadata": {},
   "source": [
    "# Checking Keys\n"
   ]
  },
  {
   "cell_type": "code",
   "execution_count": 28,
   "metadata": {},
   "outputs": [
    {
     "name": "stdout",
     "output_type": "stream",
     "text": [
      "True\n"
     ]
    }
   ],
   "source": [
    "print(\"a\" in dict)  # True"
   ]
  },
  {
   "cell_type": "markdown",
   "metadata": {},
   "source": [
    "# Dictionary Comprehensions"
   ]
  },
  {
   "cell_type": "code",
   "execution_count": 30,
   "metadata": {},
   "outputs": [
    {
     "name": "stdout",
     "output_type": "stream",
     "text": [
      "{0: 0, 1: 1, 2: 4, 3: 9, 4: 16}\n"
     ]
    }
   ],
   "source": [
    "squares = {x: x**2 for x in range(5)}\n",
    "print(squares)"
   ]
  },
  {
   "cell_type": "markdown",
   "metadata": {},
   "source": [
    "# Sets "
   ]
  },
  {
   "cell_type": "markdown",
   "metadata": {},
   "source": [
    "Removing duplicates from a list → list(set(my_list)).\n",
    "\n",
    "Fast membership testing (if x in set is faster than lists).\n",
    "\n",
    "Mathematical operations (unions, intersections, etc.)."
   ]
  },
  {
   "cell_type": "code",
   "execution_count": null,
   "metadata": {},
   "outputs": [
    {
     "name": "stdout",
     "output_type": "stream",
     "text": [
      "<class 'dict'>\n",
      "<class 'set'>\n"
     ]
    }
   ],
   "source": [
    "d = {} # this is an empty dictionary\n",
    "s = set() # this is an empty set\n",
    "#if we need order then we are using list \n",
    "#if we are don't need order but we don't want also repetition then we are using set\n",
    "print(type(d))\n",
    "print(type(s))"
   ]
  },
  {
   "cell_type": "markdown",
   "metadata": {},
   "source": [
    "# Add"
   ]
  },
  {
   "cell_type": "code",
   "execution_count": 6,
   "metadata": {},
   "outputs": [
    {
     "name": "stdout",
     "output_type": "stream",
     "text": [
      "{1, 2, 3, 4, 5, 7, 8, 9, 10, 'Harry'}\n"
     ]
    }
   ],
   "source": [
    "s = {7,8,9,10,\"Harry\"}\n",
    "s.add(1)\n",
    "s.add(2)\n",
    "s.add(3)\n",
    "s.add(4)\n",
    "s.add(5)\n",
    "print(s)"
   ]
  },
  {
   "cell_type": "markdown",
   "metadata": {},
   "source": [
    "# Update\n"
   ]
  },
  {
   "cell_type": "code",
   "execution_count": 14,
   "metadata": {},
   "outputs": [
    {
     "name": "stdout",
     "output_type": "stream",
     "text": [
      "{1, 2, 4, 5, 7, 8, 9, 10, 'Redwan', 'Hasan', 'Harry', 'Siam'}\n"
     ]
    }
   ],
   "source": [
    "s.update(['Redwan','Hasan','Siam'])\n",
    "print(s)"
   ]
  },
  {
   "cell_type": "markdown",
   "metadata": {},
   "source": [
    "# Remove Element"
   ]
  },
  {
   "cell_type": "code",
   "execution_count": null,
   "metadata": {},
   "outputs": [
    {
     "name": "stdout",
     "output_type": "stream",
     "text": [
      "{1, 2, 5, 7, 8, 9, 10, 'Redwan', 'Hasan', 'Siam'}\n"
     ]
    }
   ],
   "source": [
    "# Removes an element; raises KeyError if not found.\n",
    "s.remove(\"Harry\")\n",
    "print(s)"
   ]
  },
  {
   "cell_type": "markdown",
   "metadata": {},
   "source": [
    "# Discard Element "
   ]
  },
  {
   "cell_type": "code",
   "execution_count": 19,
   "metadata": {},
   "outputs": [
    {
     "name": "stdout",
     "output_type": "stream",
     "text": [
      "{1, 2, 5, 7, 8, 9, 'Redwan', 'Hasan', 'Siam'}\n"
     ]
    }
   ],
   "source": [
    "#  Removes an element (no error if missing).\n",
    "\n",
    "s.discard(3) # no error\n",
    "s.discard(10)\n",
    "print(s)"
   ]
  },
  {
   "cell_type": "markdown",
   "metadata": {},
   "source": [
    "# Pop "
   ]
  },
  {
   "cell_type": "code",
   "execution_count": null,
   "metadata": {},
   "outputs": [
    {
     "name": "stdout",
     "output_type": "stream",
     "text": [
      "{'Redwan', 'Hasan', 'Siam'}\n"
     ]
    }
   ],
   "source": [
    "# Removes and returns a random element (since sets are unordered).\n",
    "elem = s.pop()\n",
    "print(elem)\n",
    "print(s)"
   ]
  },
  {
   "cell_type": "markdown",
   "metadata": {},
   "source": [
    "# CLEAR ELEMENTS"
   ]
  },
  {
   "cell_type": "code",
   "execution_count": 29,
   "metadata": {},
   "outputs": [
    {
     "name": "stdout",
     "output_type": "stream",
     "text": [
      "None\n",
      "set()\n"
     ]
    }
   ],
   "source": [
    "clear = s.clear()\n",
    "print(clear)\n",
    "print(s)"
   ]
  },
  {
   "cell_type": "markdown",
   "metadata": {},
   "source": [
    "# union(set2) or | → Returns a new set with all elements from both sets."
   ]
  },
  {
   "cell_type": "code",
   "execution_count": 31,
   "metadata": {},
   "outputs": [
    {
     "name": "stdout",
     "output_type": "stream",
     "text": [
      "{1, 2, 3}\n",
      "{3, 4, 5, 6}\n"
     ]
    }
   ],
   "source": [
    "a = {1, 2}; b = {2, 3} ; c = {3,4,5} ; d = {5,4,6}\n",
    "print(a.union(b))       # {1, 2, 3}\n",
    "print(c | d)            # Same as union"
   ]
  },
  {
   "cell_type": "markdown",
   "metadata": {},
   "source": [
    "# intersection(set2) or & → Returns common elements."
   ]
  },
  {
   "cell_type": "code",
   "execution_count": 33,
   "metadata": {},
   "outputs": [
    {
     "name": "stdout",
     "output_type": "stream",
     "text": [
      "{4, 5}\n",
      "{4, 5}\n"
     ]
    }
   ],
   "source": [
    "num1 = {4,5,6,7,8} ; num2 = {4,5,9,10,11,2,1}\n",
    "ints = num1.intersection(num2)\n",
    "print(num1 & num2)\n",
    "print(ints)"
   ]
  },
  {
   "cell_type": "markdown",
   "metadata": {},
   "source": [
    "# difference(set2) or - → Returns elements in set1 but not in set2."
   ]
  },
  {
   "cell_type": "code",
   "execution_count": 34,
   "metadata": {},
   "outputs": [
    {
     "name": "stdout",
     "output_type": "stream",
     "text": [
      "{8, 6, 7}\n",
      "{8, 6, 7}\n"
     ]
    }
   ],
   "source": [
    "print(num1.difference(num2))\n",
    "print(num1-num2)"
   ]
  },
  {
   "cell_type": "markdown",
   "metadata": {},
   "source": [
    "## symmetric_difference(set2) or ^ → Returns elements in either set, but not both."
   ]
  },
  {
   "cell_type": "code",
   "execution_count": 35,
   "metadata": {},
   "outputs": [
    {
     "name": "stdout",
     "output_type": "stream",
     "text": [
      "{1, 2, 6, 7, 8, 9, 10, 11}\n",
      "{1, 2, 6, 7, 8, 9, 10, 11}\n"
     ]
    }
   ],
   "source": [
    "print(num1.symmetric_difference(num2))\n",
    "print(num1^num2)"
   ]
  },
  {
   "cell_type": "markdown",
   "metadata": {},
   "source": [
    "## issubset(set2) or <= → Checks if all elements are in another set."
   ]
  },
  {
   "cell_type": "code",
   "execution_count": 42,
   "metadata": {},
   "outputs": [
    {
     "name": "stdout",
     "output_type": "stream",
     "text": [
      "True\n",
      "True\n"
     ]
    }
   ],
   "source": [
    "a = {1,2,3}\n",
    "b = {1,2,3,4}\n",
    "print(a.issubset(b))\n",
    "print(a<=b) # <= is also subset "
   ]
  },
  {
   "cell_type": "markdown",
   "metadata": {},
   "source": [
    "## issuperset(set2) or >= → Checks if all elements of another set are present."
   ]
  },
  {
   "cell_type": "code",
   "execution_count": 43,
   "metadata": {},
   "outputs": [
    {
     "name": "stdout",
     "output_type": "stream",
     "text": [
      "True\n"
     ]
    }
   ],
   "source": [
    "a = {1,2,3,4,5}\n",
    "b = {1,2,3,4}\n",
    "print(a.issuperset(b))"
   ]
  },
  {
   "cell_type": "markdown",
   "metadata": {},
   "source": [
    "## isdisjoint(set2) → Checks if two sets have no common elements."
   ]
  },
  {
   "cell_type": "code",
   "execution_count": 46,
   "metadata": {},
   "outputs": [
    {
     "name": "stdout",
     "output_type": "stream",
     "text": [
      "True\n"
     ]
    }
   ],
   "source": [
    "c = {1,2}\n",
    "d = {3,4}\n",
    "print(c.isdisjoint(d))\n"
   ]
  },
  {
   "cell_type": "markdown",
   "metadata": {},
   "source": [
    "# copy() → Returns a shallow copy."
   ]
  },
  {
   "cell_type": "code",
   "execution_count": 47,
   "metadata": {},
   "outputs": [
    {
     "name": "stdout",
     "output_type": "stream",
     "text": [
      "{1, 2}\n"
     ]
    }
   ],
   "source": [
    "s2 = c.copy()\n",
    "print(s2)"
   ]
  },
  {
   "cell_type": "markdown",
   "metadata": {},
   "source": [
    "# Set Comprehensions\n"
   ]
  },
  {
   "cell_type": "code",
   "execution_count": 48,
   "metadata": {},
   "outputs": [
    {
     "name": "stdout",
     "output_type": "stream",
     "text": [
      "{0, 1, 4, 9, 16}\n"
     ]
    }
   ],
   "source": [
    "squares = {x**2 for x in range(5)}\n",
    "print(squares)"
   ]
  }
 ],
 "metadata": {
  "kernelspec": {
   "display_name": "Python 3",
   "language": "python",
   "name": "python3"
  },
  "language_info": {
   "codemirror_mode": {
    "name": "ipython",
    "version": 3
   },
   "file_extension": ".py",
   "mimetype": "text/x-python",
   "name": "python",
   "nbconvert_exporter": "python",
   "pygments_lexer": "ipython3",
   "version": "3.13.2"
  }
 },
 "nbformat": 4,
 "nbformat_minor": 2
}
