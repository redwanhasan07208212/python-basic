{
 "cells": [
  {
   "cell_type": "markdown",
   "id": "4a2b84d3",
   "metadata": {},
   "source": [
    "## Function and Recursion"
   ]
  },
  {
   "cell_type": "code",
   "execution_count": 4,
   "id": "fec3b466",
   "metadata": {},
   "outputs": [
    {
     "name": "stdout",
     "output_type": "stream",
     "text": [
      "39.67\n"
     ]
    }
   ],
   "source": [
    "def avg():\n",
    "    a= int(input('Enter a number'))\n",
    "    b= int(input('Enter a number'))\n",
    "    c= int(input('Enter a number'))\n",
    "\n",
    "    avg = a+b+c/3\n",
    "    print(format(avg,\".2f\"))\n",
    "\n",
    "avg()"
   ]
  },
  {
   "cell_type": "code",
   "execution_count": 6,
   "id": "c2195041",
   "metadata": {},
   "outputs": [
    {
     "name": "stdout",
     "output_type": "stream",
     "text": [
      "Good Day Redwan\n",
      "Good Day Hasan\n",
      "Good Day Siam\n"
     ]
    }
   ],
   "source": [
    "def goodDay(name):\n",
    "    print(\"Good Day\",name)\n",
    "\n",
    "goodDay(\"Redwan\")\n",
    "goodDay(\"Hasan\")\n",
    "goodDay(\"Siam\")"
   ]
  },
  {
   "cell_type": "code",
   "execution_count": 9,
   "id": "698870c7",
   "metadata": {},
   "outputs": [
    {
     "data": {
      "text/plain": [
       "720"
      ]
     },
     "execution_count": 9,
     "metadata": {},
     "output_type": "execute_result"
    }
   ],
   "source": [
    "def factorial(n):\n",
    "    if n==1 or n==0:\n",
    "        return 1\n",
    "    return n * factorial(n-1)\n",
    "\n",
    "factorial(6)"
   ]
  }
 ],
 "metadata": {
  "kernelspec": {
   "display_name": "Python 3",
   "language": "python",
   "name": "python3"
  },
  "language_info": {
   "codemirror_mode": {
    "name": "ipython",
    "version": 3
   },
   "file_extension": ".py",
   "mimetype": "text/x-python",
   "name": "python",
   "nbconvert_exporter": "python",
   "pygments_lexer": "ipython3",
   "version": "3.13.2"
  }
 },
 "nbformat": 4,
 "nbformat_minor": 5
}
