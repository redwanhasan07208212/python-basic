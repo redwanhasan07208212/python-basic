{
 "cells": [
  {
   "cell_type": "code",
   "execution_count": null,
   "metadata": {},
   "outputs": [
    {
     "name": "stdout",
     "output_type": "stream",
     "text": [
      "apple\n",
      "orange\n",
      "423\n"
     ]
    }
   ],
   "source": [
    "#strings are immutable = immutable means that are not changeable\n",
    "# lists are mutable = mutable means that are changeable \n",
    "\n",
    "li = ['apple','banana',423,546.8,'redwan','hasan']\n",
    "print(li[0])\n",
    "li[1] = 'orange'\n",
    "print(li[1]) \n",
    "print(li[2])\n",
    "\n",
    "#methods of string\n"
   ]
  },
  {
   "cell_type": "code",
   "execution_count": 16,
   "metadata": {},
   "outputs": [
    {
     "name": "stdout",
     "output_type": "stream",
     "text": [
      "['redwan', 'hasan', 'siam', 'kodu', 'modu', 'modhu']\n",
      "[0, 1, 12, 32, 45, 89]\n",
      "[89, 45, 32, 12, 1, 0]\n",
      "[2, 34, 43, 45, 78, 99]\n",
      "78\n",
      "[2, 34, 43, 45, 99]\n",
      "[89, 45, 12, 1, 0]\n"
     ]
    }
   ],
   "source": [
    "friend = ['redwan','hasan','siam','kodu','modu']\n",
    "friend.append(\"modhu\")\n",
    "print(friend)\n",
    "\n",
    "l1 = [1,89,32,45,12,0]\n",
    "l1.sort()\n",
    "print(l1)\n",
    "l1.reverse()\n",
    "print(l1)\n",
    "l2 = [2,34,45,78,99]\n",
    "l2.insert(2,43)\n",
    "print(l2)\n",
    "\n",
    "print(l2.pop(4))\n",
    "print(l2)\n",
    "l1.remove(32)\n",
    "print(l1)"
   ]
  },
  {
   "cell_type": "markdown",
   "metadata": {},
   "source": [
    "## Methods of tuple"
   ]
  },
  {
   "cell_type": "code",
   "execution_count": 32,
   "metadata": {},
   "outputs": [
    {
     "name": "stdout",
     "output_type": "stream",
     "text": [
      "Count =  3\n",
      "index of 2 =  1\n",
      "index of 5 =  6\n",
      "Concat the \n",
      "(1, 2, 3, 4)\n",
      "(1, 2, 1, 2, 1, 2)\n",
      "True\n",
      "6\n",
      "2\n",
      "99\n",
      "(2, 23, 41)\n",
      "10 20 30\n"
     ]
    }
   ],
   "source": [
    "t1 = (1, 2, 3, 2, 4, 2)\n",
    "print(\"Count = \", t1.count(2))  # Output: 3\n",
    "\n",
    "t2 = (1, 2, 3, 2, 4, 6 , 5)\n",
    "print(\"index of 2 = \", t2.index(2))  # Output: 1\n",
    "print(\"index of 5 = \", t2.index(5))  # Raises ValueError\n",
    "\n",
    "#concatenation\n",
    "t1 = (1, 2)\n",
    "t2 = (3, 4)\n",
    "print(\"Concat the \")\n",
    "print(t1 + t2)  # Output: (1, 2, 3, 4)\n",
    "#repetition\n",
    "t = (1, 2)\n",
    "print(t * 3)  # Output: (1, 2, 1, 2, 1, 2)\n",
    "\n",
    "#membership\n",
    "t = (1, 2, 3)\n",
    "print(2 in t)  # Output: True\n",
    "\n",
    "#length \n",
    "my_tuple = (34,2,23,41,9,99)\n",
    "print(len(my_tuple))\n",
    "\n",
    "#min and max \n",
    "print(min(my_tuple))\n",
    "print(max(my_tuple))\n",
    "\n",
    "#slicing\n",
    "sliced = my_tuple[1:4]\n",
    "print(sliced)\n",
    "\n",
    "#unpacking \n",
    "tuple = (10,20,30)\n",
    "a,b,c = tuple\n",
    "print(a,b,c)\n"
   ]
  }
 ],
 "metadata": {
  "kernelspec": {
   "display_name": "Python 3",
   "language": "python",
   "name": "python3"
  },
  "language_info": {
   "codemirror_mode": {
    "name": "ipython",
    "version": 3
   },
   "file_extension": ".py",
   "mimetype": "text/x-python",
   "name": "python",
   "nbconvert_exporter": "python",
   "pygments_lexer": "ipython3",
   "version": "3.13.2"
  }
 },
 "nbformat": 4,
 "nbformat_minor": 2
}
