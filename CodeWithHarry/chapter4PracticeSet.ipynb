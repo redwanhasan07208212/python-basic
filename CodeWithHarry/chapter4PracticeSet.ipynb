{
 "cells": [
  {
   "cell_type": "markdown",
   "metadata": {},
   "source": [
    "# Problem 1\n"
   ]
  },
  {
   "cell_type": "code",
   "execution_count": 1,
   "metadata": {},
   "outputs": [
    {
     "name": "stdout",
     "output_type": "stream",
     "text": [
      "['Orange', 'Mango', 'Banana', 'Grapes', 'Apple', 'Watermelon', 'Dates']\n"
     ]
    }
   ],
   "source": [
    "fruits = []\n",
    "\n",
    "f1 = input('Enter a fruits Name')\n",
    "fruits.append(f1)\n",
    "\n",
    "f2 = input('Enter a fruits Name')\n",
    "fruits.append(f2)\n",
    "\n",
    "f3 = input('Enter a fruits Name')\n",
    "fruits.append(f3)\n",
    "\n",
    "f4 = input('Enter a fruits Name')\n",
    "fruits.append(f4)\n",
    "\n",
    "f5 = input('Enter a fruits Name')\n",
    "fruits.append(f5)\n",
    "\n",
    "f6 = input('Enter a fruits Name')\n",
    "fruits.append(f6)\n",
    "\n",
    "f7 = input('Enter a fruits Name')\n",
    "fruits.append(f7)\n",
    "\n",
    "print(fruits)\n"
   ]
  },
  {
   "cell_type": "markdown",
   "metadata": {},
   "source": [
    "# Problem 2\n"
   ]
  },
  {
   "cell_type": "code",
   "execution_count": 3,
   "metadata": {},
   "outputs": [
    {
     "name": "stdout",
     "output_type": "stream",
     "text": [
      "[40, 50, 60, 69, 79, 89]\n"
     ]
    }
   ],
   "source": [
    "marks = []\n",
    "\n",
    "m1 = int(input('Enter  marks here'))\n",
    "marks.append(m1)\n",
    "\n",
    "m2 = int(input('Enter  marks here'))\n",
    "marks.append(m2)\n",
    "\n",
    "m3 = int(input('Enter  marks here'))\n",
    "marks.append(m3)\n",
    "\n",
    "m4 = int(input('Enter  marks here'))\n",
    "marks.append(m4)\n",
    "\n",
    "m5 = int(input('Enter  marks here'))\n",
    "marks.append(m5)\n",
    "\n",
    "m6 = int(input('Enter  marks here'))\n",
    "marks.append(m6)\n",
    "\n",
    "marks.sort()\n",
    "print(marks)"
   ]
  },
  {
   "cell_type": "markdown",
   "metadata": {},
   "source": [
    "# Problem 3"
   ]
  },
  {
   "cell_type": "code",
   "execution_count": 4,
   "metadata": {},
   "outputs": [
    {
     "name": "stdout",
     "output_type": "stream",
     "text": [
      "26\n"
     ]
    }
   ],
   "source": [
    "numbers = [3,6,8,9]\n",
    "print(sum(numbers))"
   ]
  },
  {
   "cell_type": "markdown",
   "metadata": {},
   "source": [
    "# Problem 4"
   ]
  },
  {
   "cell_type": "code",
   "execution_count": 5,
   "metadata": {},
   "outputs": [
    {
     "name": "stdout",
     "output_type": "stream",
     "text": [
      "3\n"
     ]
    }
   ],
   "source": [
    "a = (7,0,8,0,0,9)\n",
    "c = a.count(0)\n",
    "print(c)"
   ]
  }
 ],
 "metadata": {
  "kernelspec": {
   "display_name": "Python 3",
   "language": "python",
   "name": "python3"
  },
  "language_info": {
   "codemirror_mode": {
    "name": "ipython",
    "version": 3
   },
   "file_extension": ".py",
   "mimetype": "text/x-python",
   "name": "python",
   "nbconvert_exporter": "python",
   "pygments_lexer": "ipython3",
   "version": "3.13.2"
  }
 },
 "nbformat": 4,
 "nbformat_minor": 2
}
