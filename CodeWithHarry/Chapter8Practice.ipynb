{
 "cells": [
  {
   "cell_type": "code",
   "execution_count": 1,
   "id": "19e23e34",
   "metadata": {},
   "outputs": [
    {
     "data": {
      "text/plain": [
       "5"
      ]
     },
     "execution_count": 1,
     "metadata": {},
     "output_type": "execute_result"
    }
   ],
   "source": [
    "def greatestNumber(a,b,c):\n",
    "    return max(a,b,c)\n",
    "\n",
    "greatestNumber(4,5,2)\n",
    "\n"
   ]
  },
  {
   "cell_type": "code",
   "execution_count": 3,
   "id": "ebd3b96e",
   "metadata": {},
   "outputs": [
    {
     "data": {
      "text/plain": [
       "98"
      ]
     },
     "execution_count": 3,
     "metadata": {},
     "output_type": "execute_result"
    }
   ],
   "source": [
    "def greatestNumber(a,b,c):\n",
    "    if a>b and a>c:\n",
    "        return a\n",
    "    elif b>a and b>c:\n",
    "        return b\n",
    "    else:\n",
    "        return c\n",
    "\n",
    "greatestNumber(67,98,23)"
   ]
  },
  {
   "cell_type": "code",
   "execution_count": 10,
   "id": "0848db81",
   "metadata": {},
   "outputs": [
    {
     "name": "stdout",
     "output_type": "stream",
     "text": [
      "0.00\n"
     ]
    }
   ],
   "source": [
    "def celTofar(x):\n",
    "    cel = ((x-32)*5)/9\n",
    "    return cel\n",
    "\n",
    "celcius = celTofar(32)\n",
    "print(format(celcius,\".2f\"))"
   ]
  },
  {
   "cell_type": "code",
   "execution_count": 12,
   "id": "b8b361b6",
   "metadata": {},
   "outputs": [
    {
     "data": {
      "text/plain": [
       "10"
      ]
     },
     "execution_count": 12,
     "metadata": {},
     "output_type": "execute_result"
    }
   ],
   "source": [
    "def sum(n):\n",
    "    if n==1:\n",
    "        return 1\n",
    "    return sum(n-1)+n\n",
    "sum(4)"
   ]
  },
  {
   "cell_type": "code",
   "execution_count": 15,
   "id": "9ffaf3af",
   "metadata": {},
   "outputs": [
    {
     "name": "stdout",
     "output_type": "stream",
     "text": [
      "***\n",
      "**\n",
      "*\n"
     ]
    }
   ],
   "source": [
    "def starPattern(n):\n",
    "    if(n==0):\n",
    "        return\n",
    "    print(\"*\"*n)\n",
    "    starPattern(n-1)\n",
    "\n",
    "starPattern(3)"
   ]
  },
  {
   "cell_type": "code",
   "execution_count": 16,
   "id": "4f4eff45",
   "metadata": {},
   "outputs": [
    {
     "data": {
      "text/plain": [
       "['Harry', 'Roh', 'Shubham']"
      ]
     },
     "execution_count": 16,
     "metadata": {},
     "output_type": "execute_result"
    }
   ],
   "source": [
    "def rem(l,word):\n",
    "    n = []\n",
    "    for item in l:\n",
    "        if not(item==word):\n",
    "            n.append(item.strip(word))\n",
    "    return n\n",
    "\n",
    "l = [\"Harry\",\"Rohan\",\"Shubham\",\"an\"]\n",
    "rem(l,'an')"
   ]
  }
 ],
 "metadata": {
  "kernelspec": {
   "display_name": "Python 3",
   "language": "python",
   "name": "python3"
  },
  "language_info": {
   "codemirror_mode": {
    "name": "ipython",
    "version": 3
   },
   "file_extension": ".py",
   "mimetype": "text/x-python",
   "name": "python",
   "nbconvert_exporter": "python",
   "pygments_lexer": "ipython3",
   "version": "3.13.2"
  }
 },
 "nbformat": 4,
 "nbformat_minor": 5
}
