{
 "cells": [
  {
   "cell_type": "markdown",
   "id": "cacc35cb",
   "metadata": {},
   "source": [
    "## PROBLEM -1"
   ]
  },
  {
   "cell_type": "code",
   "execution_count": 5,
   "id": "94a1cdbb",
   "metadata": {},
   "outputs": [
    {
     "name": "stdout",
     "output_type": "stream",
     "text": [
      "6\n",
      "12\n",
      "18\n",
      "24\n",
      "30\n",
      "36\n",
      "42\n",
      "48\n",
      "54\n",
      "60\n"
     ]
    }
   ],
   "source": [
    "N = int(input())\n",
    "for i in range(1,10+1):\n",
    "    mult = i*N\n",
    "    print(mult)\n"
   ]
  },
  {
   "cell_type": "markdown",
   "id": "f58ba503",
   "metadata": {},
   "source": [
    "## Problem -2"
   ]
  },
  {
   "cell_type": "code",
   "execution_count": 7,
   "id": "2dd31719",
   "metadata": {},
   "outputs": [
    {
     "name": "stdout",
     "output_type": "stream",
     "text": [
      "['Soham', 'Sachin']\n"
     ]
    }
   ],
   "source": [
    "l = [\"Harry\",'Soham','Sachin','Rahul']\n",
    "s =[]\n",
    "for name in l:\n",
    "    if(name.startswith(\"S\")):\n",
    "        s.append(name)\n",
    "\n",
    "print(s)"
   ]
  },
  {
   "cell_type": "markdown",
   "id": "56f022c4",
   "metadata": {},
   "source": [
    "## Problem -3"
   ]
  },
  {
   "cell_type": "code",
   "execution_count": 19,
   "id": "2db82ab1",
   "metadata": {},
   "outputs": [
    {
     "name": "stdout",
     "output_type": "stream",
     "text": [
      "1 is not a prime number\n"
     ]
    }
   ],
   "source": [
    "n = int(input())\n",
    "if n <= 1:\n",
    "    print(f\"{n} is not a prime number\")\n",
    "else:\n",
    "    for i in range(2, n):\n",
    "        if n % i == 0:\n",
    "            print(f\"{n} is not a prime number\")\n",
    "            break\n",
    "    else:\n",
    "        print(f\"{n} is a prime number\")"
   ]
  },
  {
   "cell_type": "markdown",
   "id": "fddc1f7c",
   "metadata": {},
   "source": [
    "## Problem 4"
   ]
  },
  {
   "cell_type": "code",
   "execution_count": 22,
   "id": "4fe6f668",
   "metadata": {},
   "outputs": [
    {
     "name": "stdout",
     "output_type": "stream",
     "text": [
      "    *\n",
      "   ***\n",
      "  *****\n",
      " *******\n",
      "*********\n"
     ]
    }
   ],
   "source": [
    "n = int(input())\n",
    "for i in range(1,n+1):\n",
    "    print(\" \"*(n-i),end=\"\")\n",
    "    print(\"*\"*(2*i-1),end=\"\")\n",
    "    print()\n"
   ]
  },
  {
   "cell_type": "markdown",
   "id": "e3ff0a72",
   "metadata": {},
   "source": [
    "## Problem-5"
   ]
  },
  {
   "cell_type": "code",
   "execution_count": 24,
   "id": "edead8e7",
   "metadata": {},
   "outputs": [
    {
     "name": "stdout",
     "output_type": "stream",
     "text": [
      "*     \n",
      "**    \n",
      "***   \n",
      "****  \n",
      "***** \n"
     ]
    }
   ],
   "source": [
    "n = int(input())\n",
    "for i in range(1,n+1):\n",
    "    print('*'*i,end=\"\")\n",
    "    print(' '*(n-i),end=\" \")\n",
    "    print()"
   ]
  },
  {
   "cell_type": "markdown",
   "id": "3a8b4783",
   "metadata": {},
   "source": [
    "## Problem -6"
   ]
  },
  {
   "cell_type": "code",
   "execution_count": 30,
   "id": "4b3299b0",
   "metadata": {},
   "outputs": [
    {
     "name": "stdout",
     "output_type": "stream",
     "text": [
      "*******\n",
      "*     *\n",
      "*     *\n",
      "*     *\n",
      "*     *\n",
      "*     *\n",
      "*******\n"
     ]
    }
   ],
   "source": [
    "n = int(input())\n",
    "for i in range(1,n+1):\n",
    "    if i==1 or i==n:\n",
    "        print(\"*\"*n,end=\"\")\n",
    "    else: \n",
    "        print(\"*\",end=\"\")\n",
    "        print(\" \"*(n-2),end=\"\")\n",
    "        print(\"*\",end=\"\")\n",
    "    print()"
   ]
  },
  {
   "cell_type": "code",
   "execution_count": 32,
   "id": "b52fd3ca",
   "metadata": {},
   "outputs": [
    {
     "name": "stdout",
     "output_type": "stream",
     "text": [
      "60\n",
      "54\n",
      "48\n",
      "42\n",
      "36\n",
      "30\n",
      "24\n",
      "18\n",
      "12\n",
      "6\n"
     ]
    }
   ],
   "source": [
    "N = int(input())\n",
    "for i in range(10,0,-1):\n",
    "    mult = i*N\n",
    "    print(mult)"
   ]
  }
 ],
 "metadata": {
  "kernelspec": {
   "display_name": "Python 3",
   "language": "python",
   "name": "python3"
  },
  "language_info": {
   "codemirror_mode": {
    "name": "ipython",
    "version": 3
   },
   "file_extension": ".py",
   "mimetype": "text/x-python",
   "name": "python",
   "nbconvert_exporter": "python",
   "pygments_lexer": "ipython3",
   "version": "3.13.2"
  }
 },
 "nbformat": 4,
 "nbformat_minor": 5
}
