{
 "cells": [
  {
   "cell_type": "markdown",
   "id": "0c71975d",
   "metadata": {},
   "source": [
    "## 1. Write a function that takes two numbers and returns their sum.  "
   ]
  },
  {
   "cell_type": "code",
   "execution_count": 3,
   "id": "652c5e02",
   "metadata": {},
   "outputs": [
    {
     "data": {
      "text/plain": [
       "66"
      ]
     },
     "execution_count": 3,
     "metadata": {},
     "output_type": "execute_result"
    }
   ],
   "source": [
    "def sumOfTwoFunction(a,b):\n",
    "    return a+b\n",
    "\n",
    "sumOfTwoFunction(34,32)"
   ]
  },
  {
   "cell_type": "markdown",
   "id": "87437f7a",
   "metadata": {},
   "source": [
    "## 2. Write a function that prints \"Hello, World!\" when called.  "
   ]
  },
  {
   "cell_type": "code",
   "execution_count": 3,
   "id": "bdbca737",
   "metadata": {},
   "outputs": [
    {
     "data": {
      "text/plain": [
       "'Hellow World'"
      ]
     },
     "execution_count": 3,
     "metadata": {},
     "output_type": "execute_result"
    }
   ],
   "source": [
    "def helloWorld():\n",
    "    return \"Hellow World\"\n",
    "helloWorld()"
   ]
  },
  {
   "cell_type": "markdown",
   "id": "af664d32",
   "metadata": {},
   "source": [
    "## 3.Use a lambda function to add 10 to a given number.  "
   ]
  },
  {
   "cell_type": "code",
   "execution_count": 4,
   "id": "a18255b1",
   "metadata": {},
   "outputs": [
    {
     "data": {
      "text/plain": [
       "[12, 13, 14, 15, 16]"
      ]
     },
     "execution_count": 4,
     "metadata": {},
     "output_type": "execute_result"
    }
   ],
   "source": [
    "def addNumberTen(num):\n",
    "    return list(map(lambda x: x+10,num))\n",
    "addNumberTen([2,3,4,5,6])"
   ]
  }
 ],
 "metadata": {
  "kernelspec": {
   "display_name": "Python 3",
   "language": "python",
   "name": "python3"
  },
  "language_info": {
   "codemirror_mode": {
    "name": "ipython",
    "version": 3
   },
   "file_extension": ".py",
   "mimetype": "text/x-python",
   "name": "python",
   "nbconvert_exporter": "python",
   "pygments_lexer": "ipython3",
   "version": "3.13.2"
  }
 },
 "nbformat": 4,
 "nbformat_minor": 5
}
