{
  "cells": [
    {
      "cell_type": "markdown",
      "metadata": {
        "id": "h6dDSW5XGZFi"
      },
      "source": [
        "### **`Problem-1:`** Write a Python function that takes a list and returns a new list with unique elements of the first list.\n",
        "\n",
        "**Exercise 1:**\n",
        "\n",
        "Input:\n",
        "\n",
        "```bash\n",
        "[1,2,3,3,3,3,4,5]\n",
        "```\n",
        "\n",
        "Output:\n",
        "\n",
        "```bash\n",
        "[1, 2, 3, 4, 5]\n",
        "```"
      ]
    },
    {
      "cell_type": "code",
      "execution_count": 1,
      "metadata": {
        "id": "R5pq1C9LGe1y"
      },
      "outputs": [
        {
          "data": {
            "text/plain": [
              "[1, 2, 3, 4, 5]"
            ]
          },
          "execution_count": 1,
          "metadata": {},
          "output_type": "execute_result"
        }
      ],
      "source": [
        "def unique_num(num):\n",
        "    return list(set(num))\n",
        "unique_num([1,2,3,3,3,3,4,5])"
      ]
    },
    {
      "cell_type": "markdown",
      "metadata": {
        "id": "UxQ_VoyJGwHj"
      },
      "source": [
        "### **`Problem-2:`** Write a Python function that accepts a hyphen-separated sequence of words as parameter and returns the words in a hyphen-separated sequence after sorting them alphabetically.\n",
        "\n",
        "**Example 1:**\n",
        "\n",
        "Input:\n",
        "```bash\n",
        "green-red-yellow-black-white\n",
        "```\n",
        "\n",
        "Output:\n",
        "```bash\n",
        "black-green-red-white-yellow\n",
        "```"
      ]
    },
    {
      "cell_type": "code",
      "execution_count": 2,
      "metadata": {
        "id": "AAts2m5zGwiQ"
      },
      "outputs": [
        {
          "data": {
            "text/plain": [
              "'black-green-red-white-yellow'"
            ]
          },
          "execution_count": 2,
          "metadata": {},
          "output_type": "execute_result"
        }
      ],
      "source": [
        "# Write code here\n",
        "def func(hypen):\n",
        "    return '-'.join(sorted(hypen.split('-')))\n",
        "func('green-red-yellow-black-white')"
      ]
    },
    {
      "cell_type": "markdown",
      "metadata": {
        "id": "IRGH62S7Gx_n"
      },
      "source": [
        "Got it! Here's the modified question **without \"CampusX\"** and with a more generic example:\n",
        "\n",
        "---\n",
        "\n",
        "### **`Problem 3:`** Write a Python function that counts uppercase and lowercase letters in a string.\n",
        "\n",
        "**Sample Input:**  \n",
        "```python\n",
        "'The Quick Brown Fox Jumps Over The Lazy Dog.'\n",
        "```\n",
        "\n",
        "**Expected Output:**  \n",
        "```\n",
        "No. of Upper case characters: 8  \n",
        "No. of Lower case characters: 26\n",
        "```"
      ]
    },
    {
      "cell_type": "code",
      "execution_count": 3,
      "metadata": {
        "id": "OaUrD8vVG5o8"
      },
      "outputs": [
        {
          "name": "stdout",
          "output_type": "stream",
          "text": [
            "No of Upper case in string 9\n",
            "No of Lower case in string 26\n"
          ]
        }
      ],
      "source": [
        "# Write code here\n",
        "#'The Quick Brown Fox Jumps Over The Lazy Dog.'\n",
        "def countString(str):\n",
        "    upper = 0\n",
        "    lower = 0\n",
        "    for i in str:\n",
        "        if i.isupper():\n",
        "            upper = upper + 1\n",
        "        elif i.islower():\n",
        "            lower = lower + 1\n",
        "    print('No of Upper case in string',upper)\n",
        "    print('No of Lower case in string',lower)\n",
        "\n",
        "countString('The Quick Brown Fox Jumps Over The Lazy Dog.')"
      ]
    },
    {
      "cell_type": "markdown",
      "metadata": {
        "id": "V1BFFdYQG7Sn"
      },
      "source": [
        "### **`Problem 4:`** Write a Python program to print the even numbers from a given list.\n",
        "```\n",
        "Sample List : [1, 2, 3, 4, 5, 6, 7, 8, 9]\n",
        "Expected Result : [2, 4, 6, 8]\n",
        "```"
      ]
    },
    {
      "cell_type": "code",
      "execution_count": 4,
      "metadata": {
        "id": "VvAReLoDG_Z3"
      },
      "outputs": [
        {
          "data": {
            "text/plain": [
              "[2, 4, 6, 8]"
            ]
          },
          "execution_count": 4,
          "metadata": {},
          "output_type": "execute_result"
        }
      ],
      "source": [
        "# Write code here\n",
        "# [1, 2, 3, 4, 5, 6, 7, 8, 9]\n",
        "def printEven(nums):\n",
        "    even = []\n",
        "    for num in nums:\n",
        "        if num%2==0:\n",
        "            even.append(num)\n",
        "\n",
        "    return even\n",
        "\n",
        "printEven([1, 2, 3, 4, 5, 6, 7, 8, 9])"
      ]
    },
    {
      "cell_type": "markdown",
      "metadata": {
        "id": "qrK39Gn-HHb4"
      },
      "source": [
        "### **`Problem 5:`** Write a Python function to check whether a number is perfect or not.\n",
        "\n",
        "A Perfect number is a number that is half the sum of all of its positive divisors (including itself).\n",
        "\n",
        "Example :\n",
        "\n",
        "```\n",
        "The first perfect number is 6, because 1, 2, and 3 are its proper positive divisors, and 1 + 2 + 3 = 6.\n",
        "Equivalently, the number 6 is equal to half the sum of all its positive divisors: ( 1 + 2 + 3 + 6 ) / 2 = 6.\n",
        "\n",
        "The next perfect number is 28 = 1 + 2 + 4 + 7 + 14. This is followed by the perfect numbers 496 and 8128.\n",
        "```\n"
      ]
    },
    {
      "cell_type": "code",
      "execution_count": 8,
      "metadata": {
        "id": "P-OI7H78HICs"
      },
      "outputs": [
        {
          "data": {
            "text/plain": [
              "'6 is a perfect Number'"
            ]
          },
          "execution_count": 8,
          "metadata": {},
          "output_type": "execute_result"
        }
      ],
      "source": [
        "# Write code here\n",
        "def perfectNum(num):\n",
        "    sum = 0\n",
        "    for i in range(1,num):\n",
        "        if num%i==0:\n",
        "            sum = sum+i\n",
        "    if sum == num:\n",
        "        return f'{num} is a perfect Number'\n",
        "    else:\n",
        "        return f'{num} is not a perfect Number'\n",
        "\n",
        "perfectNum(6)"
      ]
    },
    {
      "cell_type": "markdown",
      "metadata": {
        "id": "oZdpcG77HO-6"
      },
      "source": [
        "### **`Problem-6:`** Write a Python function to concatenate any no of dictionaries to create a new one.\n",
        "\n",
        "```\n",
        "Sample Dictionary :\n",
        "dic1={1:10, 2:20}\n",
        "dic2={3:30, 4:40}\n",
        "dic3={5:50,6:60}\n",
        "Expected Result : {1: 10, 2: 20, 3: 30, 4: 40, 5: 50, 6: 60}\n",
        "```"
      ]
    },
    {
      "cell_type": "code",
      "execution_count": 10,
      "metadata": {
        "id": "LQgfAY4ZHPhj"
      },
      "outputs": [
        {
          "data": {
            "text/plain": [
              "{1: 10, 2: 20, 3: 30, 4: 40, 5: 50, 6: 60}"
            ]
          },
          "execution_count": 10,
          "metadata": {},
          "output_type": "execute_result"
        }
      ],
      "source": [
        "# Write code here\n",
        "def concatenate_dictionaries(*args):\n",
        "    result = {}\n",
        "    for d in args:\n",
        "        result.update(d)\n",
        "    return result\n",
        "dic1={1:10, 2:20}\n",
        "dic2={3:30, 4:40}\n",
        "dic3={5:50,6:60}\n",
        "concatenate_dictionaries(dic1,dic2,dic3)"
      ]
    },
    {
      "cell_type": "markdown",
      "metadata": {
        "id": "jQ6SzbCkHRd0"
      },
      "source": [
        "### `Problem-7` Write a python function that accepts a string as input and returns the word with most occurence.\n",
        "\n",
        "```\n",
        "Input:\n",
        "hello how are you i am fine thank you\n",
        "```\n",
        "\n",
        "```\n",
        "Output\n",
        "you -> 2\n",
        "```"
      ]
    },
    {
      "cell_type": "code",
      "execution_count": null,
      "metadata": {
        "id": "Lh04JHLzIW7Z"
      },
      "outputs": [],
      "source": [
        "# Write code here\n",
        "def most_frequent(string):\n",
        "    words = string.split()\n",
        "    word_count = {}\n",
        "    for word in words:\n",
        "        if word in word_count:\n",
        "            word_count[word] += 1\n",
        "        else:\n",
        "            word_count[word] = 1\n",
        "\n",
        "    c = 0\n",
        "    most_frequent_word = None\n",
        "    for word, count in word_count.items():\n",
        "        if count > c:\n",
        "            c = count\n",
        "            most_frequent_word = word\n",
        "\n",
        "    return f\"{most_frequent_word} -> {c}\"\n",
        "print(most_frequent('hello how are you i am fine thank you'))"
      ]
    },
    {
      "cell_type": "markdown",
      "metadata": {
        "id": "G26SYq6vqdLN"
      },
      "source": [
        "###`Problem-8` Using filter() and list() functions and .lower() method filter all the vowels in a given string.\n",
        "\n"
      ]
    },
    {
      "cell_type": "code",
      "execution_count": 14,
      "metadata": {
        "id": "zurga3DIqmEx"
      },
      "outputs": [
        {
          "data": {
            "text/plain": [
              "['e', 'o', 'o', 'a', 'e', 'o', 'u', 'i', 'a', 'i', 'e', 'a', 'o', 'u']"
            ]
          },
          "execution_count": 14,
          "metadata": {},
          "output_type": "execute_result"
        }
      ],
      "source": [
        "# Write code here\n",
        "def filter_vowels(str):\n",
        "    vowels = ['a','e','i','o','u']\n",
        "    return  list(filter(lambda x: x.lower() in vowels,str))\n",
        "filter_vowels('hello how are you i am fine thank you')"
      ]
    },
    {
      "cell_type": "markdown",
      "metadata": {
        "id": "uQrsunZSqoYu"
      },
      "source": [
        "`Problem-9`: Use reduce to convert a 2D list to 1D"
      ]
    },
    {
      "cell_type": "code",
      "execution_count": 9,
      "metadata": {
        "id": "E1YUwnfgqnka"
      },
      "outputs": [
        {
          "name": "stdout",
          "output_type": "stream",
          "text": [
            "[1, 2, 3, 4, 5, 6]\n"
          ]
        }
      ],
      "source": [
        "# Write code here\n",
        "from functools import reduce\n",
        "\n",
        "nested_list = [[1, 2], [3, 4], [5, 6]]\n",
        "\n",
        "flattened = reduce(lambda x, y: x + y, nested_list)\n",
        "\n",
        "print(flattened)"
      ]
    },
    {
      "cell_type": "markdown",
      "metadata": {
        "id": "8-DLQEawt-_t"
      },
      "source": [
        "`Problem 10`- A dictionary contains following information about 5 employees:\n",
        "- First name\n",
        "- Last name\n",
        "- Age\n",
        "- Grade(Skilled,Semi-skilled,Highly skilled)<br>\n",
        "Write a program using map/filter/reduce to a list of employees(first name + last name) who are highly skilled"
      ]
    },
    {
      "cell_type": "code",
      "execution_count": 16,
      "metadata": {
        "id": "OLvptttLs6OU"
      },
      "outputs": [
        {
          "name": "stdout",
          "output_type": "stream",
          "text": [
            "['Alice Smith', 'Charlie Williams']\n"
          ]
        }
      ],
      "source": [
        "# Write code here\n",
        "def highly_skilled(employees):\n",
        "    return list(map(lambda x: x['First name'] + ' ' + x['Last name'],filter(lambda x: x['Grade'] == 'Highly skilled',employees)))\n",
        "\n",
        "employees = [\n",
        "    {'First name': 'Alice', 'Last name': 'Smith', 'Age': 30, 'Grade': 'Highly skilled'},\n",
        "    {'First name': 'Bob', 'Last name': 'Johnson', 'Age': 25, 'Grade': 'Skilled'},\n",
        "    {'First name': 'Charlie', 'Last name': 'Williams', 'Age': 28, 'Grade': 'Highly skilled'},\n",
        "    {'First name': 'Diana', 'Last name': 'Brown', 'Age': 32, 'Grade': 'Semi-skilled'},\n",
        "    {'First name': 'Ethan', 'Last name': 'Davis', 'Age': 27, 'Grade': 'Skilled'}\n",
        "]\n",
        "\n",
        "result = highly_skilled(employees)\n",
        "print(result)"
      ]
    }
  ],
  "metadata": {
    "colab": {
      "provenance": []
    },
    "kernelspec": {
      "display_name": "Python 3",
      "name": "python3"
    },
    "language_info": {
      "codemirror_mode": {
        "name": "ipython",
        "version": 3
      },
      "file_extension": ".py",
      "mimetype": "text/x-python",
      "name": "python",
      "nbconvert_exporter": "python",
      "pygments_lexer": "ipython3",
      "version": "3.13.2"
    }
  },
  "nbformat": 4,
  "nbformat_minor": 0
}
