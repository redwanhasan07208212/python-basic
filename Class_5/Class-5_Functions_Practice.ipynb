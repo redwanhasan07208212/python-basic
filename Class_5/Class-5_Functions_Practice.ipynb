{
 "cells": [
  {
   "cell_type": "markdown",
   "metadata": {
    "id": "h6dDSW5XGZFi"
   },
   "source": [
    "### **`Problem-1:`** Write a Python function that takes a list and returns a new list with unique elements of the first list.\n",
    "\n",
    "**Exercise 1:**\n",
    "\n",
    "Input:\n",
    "\n",
    "```bash\n",
    "[1,2,3,3,3,3,4,5]\n",
    "```\n",
    "\n",
    "Output:\n",
    "\n",
    "```bash\n",
    "[1, 2, 3, 4, 5]\n",
    "```"
   ]
  },
  {
   "cell_type": "code",
   "execution_count": 1,
   "metadata": {
    "colab": {
     "base_uri": "https://localhost:8080/"
    },
    "id": "R5pq1C9LGe1y",
    "outputId": "7125a5de-f9fb-4d5d-c59d-d263be11bc89"
   },
   "outputs": [
    {
     "data": {
      "text/plain": [
       "[1, 2, 3, 4, 5]"
      ]
     },
     "execution_count": 1,
     "metadata": {},
     "output_type": "execute_result"
    }
   ],
   "source": [
    "def unique_list(lst):\n",
    "    return list(set(lst))\n",
    "unique_list([1,2,3,3,3,3,4,5])"
   ]
  },
  {
   "cell_type": "markdown",
   "metadata": {
    "id": "UxQ_VoyJGwHj"
   },
   "source": [
    "### **`Problem-2:`** Write a Python function that accepts a hyphen-separated sequence of words as parameter and returns the words in a hyphen-separated sequence after sorting them alphabetically.\n",
    "\n",
    "**Example 1:**\n",
    "\n",
    "Input:\n",
    "```bash\n",
    "green-red-yellow-black-white\n",
    "```\n",
    "\n",
    "Output:\n",
    "```bash\n",
    "black-green-red-white-yellow\n",
    "```"
   ]
  },
  {
   "cell_type": "code",
   "execution_count": 2,
   "metadata": {
    "colab": {
     "base_uri": "https://localhost:8080/",
     "height": 35
    },
    "id": "AAts2m5zGwiQ",
    "outputId": "f5b6ce97-9e94-4a1f-fca9-964555b1964c"
   },
   "outputs": [
    {
     "data": {
      "application/vnd.google.colaboratory.intrinsic+json": {
       "type": "string"
      },
      "text/plain": [
       "'black-green-red-white-yellow'"
      ]
     },
     "execution_count": 2,
     "metadata": {},
     "output_type": "execute_result"
    }
   ],
   "source": [
    "# Write code here\n",
    "def func(hyphen):\n",
    "  return '-'.join(sorted(hyphen.split('-')))\n",
    "func('green-red-yellow-black-white')"
   ]
  },
  {
   "cell_type": "markdown",
   "metadata": {
    "id": "IRGH62S7Gx_n"
   },
   "source": [
    "Got it! Here's the modified question **without \"CampusX\"** and with a more generic example:\n",
    "\n",
    "---\n",
    "\n",
    "### **`Problem 3:`** Write a Python function that counts uppercase and lowercase letters in a string.\n",
    "\n",
    "**Sample Input:**  \n",
    "```python\n",
    "'The Quick Brown Fox Jumps Over The Lazy Dog.'\n",
    "```\n",
    "\n",
    "**Expected Output:**  \n",
    "```\n",
    "No. of Upper case characters: 8  \n",
    "No. of Lower case characters: 26\n",
    "```"
   ]
  },
  {
   "cell_type": "code",
   "execution_count": 3,
   "metadata": {
    "colab": {
     "base_uri": "https://localhost:8080/"
    },
    "id": "OaUrD8vVG5o8",
    "outputId": "a0af849a-4a25-417c-ca36-20044138d979"
   },
   "outputs": [
    {
     "name": "stdout",
     "output_type": "stream",
     "text": [
      "No. of Upper case characters: 9\n",
      "No. of Lower case characters: 26\n"
     ]
    }
   ],
   "source": [
    "# Write code here\n",
    "def func(string):\n",
    "  upper = 0\n",
    "  lower = 0\n",
    "  for i in string:\n",
    "    if i.isupper():\n",
    "      upper = upper+1\n",
    "    elif i.islower():\n",
    "      lower = lower+1\n",
    "  print('No. of Upper case characters:',upper)\n",
    "  print('No. of Lower case characters:',lower)\n",
    "func('The Quick Brown Fox Jumps Over The Lazy Dog.')"
   ]
  },
  {
   "cell_type": "markdown",
   "metadata": {
    "id": "V1BFFdYQG7Sn"
   },
   "source": [
    "### **`Problem 4:`** Write a Python program to print the even numbers from a given list.\n",
    "```\n",
    "Sample List : [1, 2, 3, 4, 5, 6, 7, 8, 9]\n",
    "Expected Result : [2, 4, 6, 8]\n",
    "```"
   ]
  },
  {
   "cell_type": "code",
   "execution_count": 6,
   "metadata": {
    "colab": {
     "base_uri": "https://localhost:8080/"
    },
    "id": "VvAReLoDG_Z3",
    "outputId": "9c7faa58-3002-4758-b161-7f8b18aa7132"
   },
   "outputs": [
    {
     "data": {
      "text/plain": [
       "[2, 4, 6, 8]"
      ]
     },
     "execution_count": 6,
     "metadata": {},
     "output_type": "execute_result"
    }
   ],
   "source": [
    "# Write code here\n",
    "def func(lst):\n",
    "    s = []\n",
    "    for i in lst:\n",
    "       if i%2==0:\n",
    "          s.append(i)\n",
    "    return s\n",
    "func([1, 2, 3, 4, 5, 6, 7, 8, 9])"
   ]
  },
  {
   "cell_type": "markdown",
   "metadata": {
    "id": "qrK39Gn-HHb4"
   },
   "source": [
    "### **`Problem 5:`** Write a Python function to check whether a number is perfect or not.\n",
    "\n",
    "A Perfect number is a number that is half the sum of all of its positive divisors (including itself).\n",
    "\n",
    "Example :\n",
    "\n",
    "```\n",
    "The first perfect number is 6, because 1, 2, and 3 are its proper positive divisors, and 1 + 2 + 3 = 6.\n",
    "Equivalently, the number 6 is equal to half the sum of all its positive divisors: ( 1 + 2 + 3 + 6 ) / 2 = 6.\n",
    "\n",
    "The next perfect number is 28 = 1 + 2 + 4 + 7 + 14. This is followed by the perfect numbers 496 and 8128.\n",
    "```\n"
   ]
  },
  {
   "cell_type": "code",
   "execution_count": 9,
   "metadata": {
    "colab": {
     "base_uri": "https://localhost:8080/"
    },
    "id": "P-OI7H78HICs",
    "outputId": "46763ddf-2323-48b0-cf1a-b113b30443a5"
   },
   "outputs": [
    {
     "name": "stdout",
     "output_type": "stream",
     "text": [
      "6 is a perfect number.\n"
     ]
    },
    {
     "data": {
      "text/plain": [
       "True"
      ]
     },
     "execution_count": 9,
     "metadata": {},
     "output_type": "execute_result"
    }
   ],
   "source": [
    "# Write code here\n",
    "def perfect_number(n):\n",
    "    s = 0\n",
    "    for x in range(1, n):\n",
    "        if n % x == 0:\n",
    "            s= s+x\n",
    "    if s == n:\n",
    "        print()\n",
    "        return f\"{n} is a perfect number.\"\n",
    "    else:\n",
    "        print(f)\n",
    "        return f\"{n} is not a perfect number.\"\n",
    "perfect_number(6)"
   ]
  },
  {
   "cell_type": "markdown",
   "metadata": {
    "id": "oZdpcG77HO-6"
   },
   "source": [
    "### **`Problem-6:`** Write a Python function to concatenate any no of dictionaries to create a new one.\n",
    "\n",
    "```\n",
    "Sample Dictionary :\n",
    "dic1={1:10, 2:20}\n",
    "dic2={3:30, 4:40}\n",
    "dic3={5:50,6:60}\n",
    "Expected Result : {1: 10, 2: 20, 3: 30, 4: 40, 5: 50, 6: 60}\n",
    "```"
   ]
  },
  {
   "cell_type": "code",
   "execution_count": 12,
   "metadata": {
    "colab": {
     "base_uri": "https://localhost:8080/"
    },
    "id": "LQgfAY4ZHPhj",
    "outputId": "c82b7144-7444-41e9-9f67-a4aafd6aa212"
   },
   "outputs": [
    {
     "data": {
      "text/plain": [
       "{1: 10, 2: 20, 3: 30, 4: 40}"
      ]
     },
     "execution_count": 12,
     "metadata": {},
     "output_type": "execute_result"
    }
   ],
   "source": [
    "# Write code here\n",
    "def concatenate_dictionaries(*args):\n",
    "    result = {}\n",
    "    for d in args:\n",
    "        result.update(d)\n",
    "    return result\n",
    "dic1={1:10, 2:20}\n",
    "dic2={3:30, 4:40}\n",
    "concatenate_dictionaries(dic1,dic2)"
   ]
  },
  {
   "cell_type": "markdown",
   "metadata": {
    "id": "jQ6SzbCkHRd0"
   },
   "source": [
    "### `Problem-7` Write a python function that accepts a string as input and returns the word with most occurence.\n",
    "\n",
    "```\n",
    "Input:\n",
    "hello how are you i am fine thank you\n",
    "```\n",
    "\n",
    "```\n",
    "Output\n",
    "you -> 2\n",
    "```"
   ]
  },
  {
   "cell_type": "code",
   "execution_count": 18,
   "metadata": {
    "colab": {
     "base_uri": "https://localhost:8080/"
    },
    "id": "Lh04JHLzIW7Z",
    "outputId": "0ff771ac-00f0-49ed-ab07-ca14a8bac76d"
   },
   "outputs": [
    {
     "name": "stdout",
     "output_type": "stream",
     "text": [
      "you -> 2\n"
     ]
    }
   ],
   "source": [
    "# Write code here\n",
    "def most_frequent(string):\n",
    "    words = string.split()\n",
    "    word_count = {}\n",
    "    for word in words:\n",
    "        if word in word_count:\n",
    "            word_count[word] += 1\n",
    "        else:\n",
    "            word_count[word] = 1\n",
    "\n",
    "    c = 0\n",
    "    most_frequent_word = None\n",
    "    for word, count in word_count.items():\n",
    "        if count > c:\n",
    "            c = count\n",
    "            most_frequent_word = word\n",
    "\n",
    "    return f\"{most_frequent_word} -> {c}\"\n",
    "print(most_frequent('hello how are you i am fine thank you'))"
   ]
  },
  {
   "cell_type": "markdown",
   "metadata": {
    "id": "G26SYq6vqdLN"
   },
   "source": [
    "###`Problem-8` Using filter() and list() functions and .lower() method filter all the vowels in a given string.\n",
    "\n"
   ]
  },
  {
   "cell_type": "code",
   "execution_count": 19,
   "metadata": {
    "colab": {
     "base_uri": "https://localhost:8080/"
    },
    "id": "zurga3DIqmEx",
    "outputId": "21c2fb62-d9eb-41c6-f33a-4ec05c2b29da"
   },
   "outputs": [
    {
     "data": {
      "text/plain": [
       "['e', 'o', 'o', 'a', 'e', 'o', 'u', 'i', 'a', 'i', 'e', 'a', 'o', 'u']"
      ]
     },
     "execution_count": 19,
     "metadata": {},
     "output_type": "execute_result"
    }
   ],
   "source": [
    "# Write code here\n",
    "def filter_vowels(string):\n",
    "    vowels = ['a', 'e', 'i', 'o', 'u']\n",
    "    return list(filter(lambda x: x.lower() in vowels, string))\n",
    "\n",
    "filter_vowels('hello how are you i am fine thank you')"
   ]
  },
  {
   "cell_type": "markdown",
   "metadata": {
    "id": "uQrsunZSqoYu"
   },
   "source": [
    "`Problem-9`: Use reduce to convert a 2D list to 1D"
   ]
  },
  {
   "cell_type": "code",
   "execution_count": null,
   "metadata": {
    "id": "E1YUwnfgqnka"
   },
   "outputs": [],
   "source": [
    "# Write code here"
   ]
  },
  {
   "cell_type": "markdown",
   "metadata": {
    "id": "8-DLQEawt-_t"
   },
   "source": [
    "`Problem 10`- A dictionary contains following information about 5 employees:\n",
    "- First name\n",
    "- Last name\n",
    "- Age\n",
    "- Grade(Skilled,Semi-skilled,Highly skilled)<br>\n",
    "Write a program using map/filter/reduce to a list of employees(first name + last name) who are highly skilled"
   ]
  },
  {
   "cell_type": "code",
   "execution_count": 22,
   "metadata": {
    "colab": {
     "base_uri": "https://localhost:8080/"
    },
    "id": "OLvptttLs6OU",
    "outputId": "28b58ca1-57ef-46e9-e69e-9e3ba1a216ba"
   },
   "outputs": [
    {
     "name": "stdout",
     "output_type": "stream",
     "text": [
      "['Alice Smith', 'Charlie Williams']\n"
     ]
    }
   ],
   "source": [
    "# Write code here\n",
    "def filter_highly_skilled(employees):\n",
    "    return list(map(lambda x: x['First name'] + ' ' + x['Last name'],\n",
    "        filter(lambda x: x['Grade'] == 'Highly skilled', employees)))\n",
    "\n",
    "employees = [\n",
    "    {'First name': 'Alice', 'Last name': 'Smith', 'Age': 30, 'Grade': 'Highly skilled'},\n",
    "    {'First name': 'Bob', 'Last name': 'Johnson', 'Age': 25, 'Grade': 'Skilled'},\n",
    "    {'First name': 'Charlie', 'Last name': 'Williams', 'Age': 28, 'Grade': 'Highly skilled'},\n",
    "    {'First name': 'Diana', 'Last name': 'Brown', 'Age': 32, 'Grade': 'Semi-skilled'},\n",
    "    {'First name': 'Ethan', 'Last name': 'Davis', 'Age': 27, 'Grade': 'Skilled'}\n",
    "]\n",
    "\n",
    "result = filter_highly_skilled(employees)\n",
    "print(result)"
   ]
  },
  {
   "cell_type": "code",
   "execution_count": null,
   "metadata": {
    "id": "ugD3dsZYGj83"
   },
   "outputs": [],
   "source": []
  }
 ],
 "metadata": {
  "colab": {
   "provenance": []
  },
  "kernelspec": {
   "display_name": "Python 3 (ipykernel)",
   "language": "python",
   "name": "python3"
  },
  "language_info": {
   "codemirror_mode": {
    "name": "ipython",
    "version": 3
   },
   "file_extension": ".py",
   "mimetype": "text/x-python",
   "name": "python",
   "nbconvert_exporter": "python",
   "pygments_lexer": "ipython3",
   "version": "3.13.0"
  }
 },
 "nbformat": 4,
 "nbformat_minor": 4
}
