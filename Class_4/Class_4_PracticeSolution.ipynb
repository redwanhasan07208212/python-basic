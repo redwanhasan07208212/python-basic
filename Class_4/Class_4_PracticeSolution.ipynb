{
 "cells": [
  {
   "cell_type": "markdown",
   "metadata": {
    "id": "limD5IAfl-tz"
   },
   "source": [
    "# **Tuple**\n"
   ]
  },
  {
   "cell_type": "markdown",
   "metadata": {
    "id": "x0psnUiu2ZVp"
   },
   "source": [
    "### `Q1`: Check is tuples are same or not?\n",
    "Two tuples would be same if both tuples have same element at same index\n",
    "```\n",
    "t1 = (1,2,3,0)\n",
    "t2 = (0,1,2,3)\n",
    "\n",
    "t1 and t2 are not same\n",
    "```"
   ]
  },
  {
   "cell_type": "code",
   "execution_count": 1,
   "metadata": {
    "colab": {
     "base_uri": "https://localhost:8080/"
    },
    "id": "JMVw9EhSrPEc",
    "outputId": "40670a3f-2b61-4f28-ecc8-a39bc3cd6572"
   },
   "outputs": [
    {
     "data": {
      "text/plain": [
       "False"
      ]
     },
     "execution_count": 1,
     "metadata": {},
     "output_type": "execute_result"
    }
   ],
   "source": [
    "# write your code here\n",
    "t1 = (1,2,3,0)\n",
    "t2 = (0,1,2,3)\n",
    "t1 == t2"
   ]
  },
  {
   "cell_type": "markdown",
   "metadata": {
    "id": "aZ4rObHK4fCN"
   },
   "source": [
    "### `Q2`: Count no of tuples, list and set from a list\n",
    "```\n",
    "list1 = [{'hi', 'bye'},{'Geeks', 'forGeeks'},('a', 'b'),['hi', 'bye'],['a', 'b']]\n",
    "\n",
    "```\n",
    "`Output:`\n",
    "\n",
    "```\n",
    "List-2\n",
    "Set-2\n",
    "Tuples-1\n",
    "```"
   ]
  },
  {
   "cell_type": "code",
   "execution_count": 12,
   "metadata": {
    "colab": {
     "base_uri": "https://localhost:8080/"
    },
    "id": "g_Bnuczk69tG",
    "outputId": "161942f4-06f6-4e23-b7c4-3d1974d19f66"
   },
   "outputs": [
    {
     "name": "stdout",
     "output_type": "stream",
     "text": [
      "List-2\n",
      "Set-2\n",
      "Tuples-1\n"
     ]
    }
   ],
   "source": [
    "# write your code here\n",
    "list1 = [{'hi', 'bye'}, {'Geeks', 'forGeeks'}, ('a', 'b'), ['hi', 'bye'], ['a', 'b']]\n",
    "# Initialize counters for lists, sets, and tuples\n",
    "list_count = 0\n",
    "set_count = 0\n",
    "tuple_count = 0\n",
    "# Iterate the list\n",
    "for item in list1:\n",
    "    if isinstance(item, list):  # Check if the item is a list\n",
    "        list_count = list_count+1\n",
    "    elif isinstance(item, set):  # Check if the item is a set\n",
    "        set_count = set_count+1\n",
    "    elif isinstance(item, tuple):  # Check if the item is a tuple\n",
    "        tuple_count = tuple_count+1\n",
    "print(f\"List-{list_count}\")\n",
    "print(f\"Set-{set_count}\")\n",
    "print(f\"Tuples-{tuple_count}\")"
   ]
  },
  {
   "cell_type": "markdown",
   "metadata": {
    "id": "jInFNuit8hf1"
   },
   "source": [
    "### `Q3`: Shortlist Students for a Job role\n",
    "Ask user to input students record and store in tuples for each record. Then Ask user to input three things he wants in the candidate- Primary Skill, Higher Education, Year of Graduation.\n",
    "\n",
    "Show every students record in form of tuples if matches all required criteria.\n",
    "\n",
    "It is assumed that there will be only one primry skill.\n",
    "\n",
    "If no such candidate found, print `No such candidate`\n",
    "\n",
    "`Input:`\n",
    "```\n",
    "Enter No of records- 2\n",
    "Enter Details of student-1\n",
    "Enter Student name- Alice\n",
    "Enter Higher Education- B.Tech\n",
    "Enter Primary Skill- Python\n",
    "Enter Year of Graduation- 2022\n",
    "Enter Details of student-2\n",
    "Enter Student name- Ponian\n",
    "Enter Higher Education- B.Sc.\n",
    "Enter Primary Skill- C++\n",
    "Enter Year of Graduation- 2020\n",
    "\n",
    "Enter Job Role Requirement\n",
    "Enter Skill- Python\n",
    "Enter Higher Education- B.Tech\n",
    "Enter Year of Graduation- 2022\n",
    "```\n",
    "\n",
    "`Output`\n",
    "```\n",
    "('Alice', 'B.tech', 'Python', '2022')\n",
    "```\n"
   ]
  },
  {
   "cell_type": "code",
   "execution_count": null,
   "metadata": {
    "id": "erh9QZaerSHk"
   },
   "outputs": [],
   "source": [
    "# write your code here\n"
   ]
  },
  {
   "cell_type": "markdown",
   "metadata": {
    "id": "l4hLvwD2BeIN"
   },
   "source": [
    "# **Set**"
   ]
  },
  {
   "cell_type": "markdown",
   "metadata": {
    "id": "zCX0Sk2IBfu8"
   },
   "source": [
    "### `Q1:` Write a program to find set of common elements in three lists using sets.\n",
    "```\n",
    "Input : ar1 = [1, 5, 10, 20, 40, 80]\n",
    "        ar2 = [6, 7, 20, 80, 100]\n",
    "        ar3 = [3, 4, 15, 20, 30, 70, 80, 120]\n",
    "\n",
    "Output : [80, 20]\n",
    "```"
   ]
  },
  {
   "cell_type": "code",
   "execution_count": 19,
   "metadata": {
    "colab": {
     "base_uri": "https://localhost:8080/"
    },
    "id": "rqATYpBUrUQU",
    "outputId": "e6a29f1d-95cf-431d-c043-460d841a1300"
   },
   "outputs": [
    {
     "name": "stdout",
     "output_type": "stream",
     "text": [
      "Common elements: [80, 20]\n"
     ]
    }
   ],
   "source": [
    "ar1 = [1, 5, 10, 20, 40, 80]\n",
    "ar2 = [6, 7, 20, 80, 100]\n",
    "ar3 = [3, 4, 15, 20, 30, 70, 80, 120]\n",
    "# Convert lists to sets and find the intersection\n",
    "common_elements = list(set(ar1).intersection(ar2, ar3))\n",
    "print(\"Common elements:\", common_elements)"
   ]
  },
  {
   "cell_type": "markdown",
   "metadata": {
    "id": "0gOVS-0yCYrK"
   },
   "source": [
    "### `Q2:` Write a program to count unique number of vowels using sets in a given string. Lowercase and upercase vowels will be taken as different.\n",
    "\n",
    "`Input:`\n",
    "```\n",
    "Str1 = \"Artificial Intelligence and Machine Learning are transforming the wOrld\"\n",
    "```\n",
    "`Output:`\n",
    "```\n",
    "No of unique vowels-6\n",
    "```"
   ]
  },
  {
   "cell_type": "code",
   "execution_count": 30,
   "metadata": {
    "colab": {
     "base_uri": "https://localhost:8080/"
    },
    "id": "0vAlEAOzDihm",
    "outputId": "b732017d-0fd6-487d-a88d-547b16aaf471"
   },
   "outputs": [
    {
     "name": "stdout",
     "output_type": "stream",
     "text": [
      "No of unique vowels-7\n"
     ]
    }
   ],
   "source": [
    "# write your code here\n",
    "Str1 = \"Artificial Intelligence and Machine Learning are transforming the wOrld\"\n",
    "unique_vowels = set()\n",
    "# Iterate through each character in the string\n",
    "for char in Str1:\n",
    "    #character is a vowel\n",
    "    if char in 'aeiouAEIOU':\n",
    "        # Add the vowel to the set\n",
    "        unique_vowels.add(char)\n",
    "num_unique_vowels = len(unique_vowels)\n",
    "print(f\"No of unique vowels-{num_unique_vowels}\")"
   ]
  },
  {
   "cell_type": "markdown",
   "metadata": {
    "id": "fqLZxiarEne5"
   },
   "source": [
    "### `Q3:` Write a program to Check if a given string is binary string of or not.\n",
    "\n",
    "A string is said to be binary if it's consists of only two unique characters.\n",
    "\n",
    "Take string input from user.\n",
    "\n",
    "```\n",
    "Input: str = \"01010101010\"\n",
    "Output: Yes\n",
    "\n",
    "Input: str = \"1222211\"\n",
    "Output: Yes\n",
    "\n",
    "Input: str = \"DataSolution360\"\n",
    "Output: No\n",
    "```"
   ]
  },
  {
   "cell_type": "code",
   "execution_count": 34,
   "metadata": {
    "colab": {
     "base_uri": "https://localhost:8080/"
    },
    "id": "5M5v8LoYrXkE",
    "outputId": "deb0d4bb-c70a-4823-8a95-aec260a052aa"
   },
   "outputs": [
    {
     "name": "stdout",
     "output_type": "stream",
     "text": [
      "Enter a string: 102\n",
      "No\n"
     ]
    }
   ],
   "source": [
    "# write your code here\n",
    "n = input(\"Enter a string: \")\n",
    "unique_chars = set(n)\n",
    "# Check if the set is a subset of {'0', '1'}\n",
    "if unique_chars <= {'0', '1'}:\n",
    "    print('Yes')\n",
    "else:\n",
    "    print('No')"
   ]
  },
  {
   "cell_type": "markdown",
   "metadata": {
    "id": "T_Re21BdndOz"
   },
   "source": [
    "\n",
    "### `Q4`: Intersection of two sets. The intersection of two sets means we need to take all those elements that are common to both of the initial sets and store them in another set. Use **set operations**.\n",
    "\n",
    "**Example 1:**\n",
    "\n",
    "Input:\n",
    "```bash\n",
    "set1 = {15, 9, 10, 56, 23, 78, 5, 4, 9}\n",
    "set2 = {9, 4, 5, 36, 47, 26, 10, 45, 87}\n",
    "\n",
    "```\n",
    "\n",
    "Output:\n",
    "```bash\n",
    "{9, 10, 4, 5}\n",
    "\n",
    "```\n",
    "\n",
    "**Example 2:**\n",
    "```bash\n",
    "Input:\n",
    "set1 = {4, 9, 1, 17, 11, 26, 28, 54, 69}\n",
    "set2 = {9, 9, 74, 21, 45, 11, 63, 28, 26}\n",
    "\n",
    "```\n",
    "\n",
    "Output:\n",
    "{9, 11, 26, 28}"
   ]
  },
  {
   "cell_type": "code",
   "execution_count": 1,
   "metadata": {
    "id": "nWnL25ftoLVT"
   },
   "outputs": [
    {
     "data": {
      "text/plain": [
       "{9, 11, 26, 28}"
      ]
     },
     "execution_count": 1,
     "metadata": {},
     "output_type": "execute_result"
    }
   ],
   "source": [
    "# write your code here\n",
    "set1 = {4, 9, 1, 17, 11, 26, 28, 54, 69}\n",
    "set2 = {9, 9, 74, 21, 45, 11, 63, 28, 26}\n",
    "i_s = set1.intersection(set2)\n",
    "i_s"
   ]
  },
  {
   "cell_type": "markdown",
   "metadata": {
    "id": "tD2RSYn1a8oA"
   },
   "source": [
    "# **Dictionary**"
   ]
  },
  {
   "cell_type": "markdown",
   "metadata": {
    "id": "7tUjHhcPbQzQ"
   },
   "source": [
    "### `Q1`: Key with maximum unique values\n",
    "\n",
    "Given a dictionary with values as lists, extract the key whose value has the most unique values.\n",
    "\n",
    "**Example 1:**\n",
    "\n",
    "Input:\n",
    "```bash\n",
    "test_dict = {\"Python\" : [5, 7, 9, 4, 0], \"is\" : [6, 7, 4, 3, 3], \"Awesome\" : [9, 9, 6, 5, 5]}\n",
    "```\n",
    "\n",
    "Output:\n",
    "```bash\n",
    "Python\n",
    "```\n",
    "\n",
    "**Example 2:**\n",
    "\n",
    "Input:\n",
    "```bash\n",
    "test_dict = {\"Python\" : [5, 7, 7, 7, 7], \"is\" : [6, 7, 7, 7], \"Awesome\" : [9, 9, 6, 5, 5]}\n",
    "```\n",
    "\n",
    "Output:\n",
    "```bash\n",
    "Awesome\n",
    "```\n",
    "\n",
    "Let me know if you need further adjustments! 😊"
   ]
  },
  {
   "cell_type": "code",
   "execution_count": 5,
   "metadata": {
    "id": "N8KHX863lNxL"
   },
   "outputs": [
    {
     "name": "stdout",
     "output_type": "stream",
     "text": [
      "Python\n"
     ]
    }
   ],
   "source": [
    "# write your code here\n",
    "test_dict = {\"Python\" : [5, 7, 9, 4, 0], \"is\" : [6, 7, 4, 3, 3], \"Awesome\" : [9, 9, 6, 5, 5]}\n",
    "c = 0 #count initialization\n",
    "max_key = \"\"\n",
    "# Iterate through each key-value pair in the dictionary\n",
    "for key in test_dict:\n",
    "    val_list = test_dict[key]\n",
    "    unique_elements = []\n",
    "    # Iterate the list to find unique elements\n",
    "    for item in val_list:\n",
    "        if item not in unique_elements:\n",
    "            unique_elements.append(item)\n",
    "    # max_key if the current list has more unique elements\n",
    "    if len(unique_elements) > c:\n",
    "        c = len(unique_elements)\n",
    "        max_key = key\n",
    "\n",
    "print(max_key)"
   ]
  },
  {
   "cell_type": "markdown",
   "metadata": {
    "id": "_S5X6C84dWdJ"
   },
   "source": [
    "### `Q2`: Replace words from Dictionary. Given a string, replace its words using a lookup dictionary.\n",
    "\n",
    "**Example 1:**\n",
    "\n",
    "Input:\n",
    "```bash\n",
    "test_str = 'Python is great for coding beginners.'\n",
    "repl_dict = {\"great\" : \"amazing\", \"coding\" : \"programming\"}\n",
    "\n",
    "```\n",
    "\n",
    "Output:\n",
    "```bash\n",
    "Python is amazing for programming beginners.\n",
    "\n",
    "```\n",
    "\n",
    "**Example 2:**\n",
    "\n",
    "Input:\n",
    "```bash\n",
    "test_str = 'Python is great for coding beginners.'\n",
    "repl_dict = {\"awesome\" : \"amazing\", \"code\" : \"programming\"}\n",
    "\n",
    "```\n",
    "\n",
    "Output:\n",
    "```bash\n",
    "Python is great for coding beginners.\n",
    "\n",
    "```\n",
    "\n",
    "### Explanation:\n",
    "- If a word in the string exists in the `repl_dict`, replace it with the corresponding value from the dictionary.\n",
    "- If a word does not exist in the dictionary, leave it unchanged.\n"
   ]
  },
  {
   "cell_type": "code",
   "execution_count": null,
   "metadata": {
    "id": "BTAQ8qnrlOxr"
   },
   "outputs": [],
   "source": [
    "# write your code here"
   ]
  },
  {
   "cell_type": "markdown",
   "metadata": {
    "id": "55xgap3zfbcR"
   },
   "source": [
    "### `Q3`: Convert List to List of Dictionaries. Given a list of values and a list of keys, convert these values into key-value pairs in the form of a list of dictionaries.\n",
    "\n",
    "**Example 1:**\n",
    "\n",
    "Input:\n",
    "```bash\n",
    "test_list = [\"DataScience\", 3, \"Datasolution\", 8]\n",
    "key_list = [\"name\", \"id\"]\n",
    "```\n",
    "\n",
    "Output:\n",
    "```bash\n",
    "[{'name': 'DataScience', 'id': 3}, {'name': 'Datasolution', 'id': 8}]\n",
    "```\n",
    "\n",
    "**Example 2:**\n",
    "\n",
    "Input:\n",
    "```bash\n",
    "test_list = [\"Python\", 10]\n",
    "key_list = [\"name\", \"id\"]\n",
    "```\n",
    "\n",
    "Output:\n",
    "```bash\n",
    "[{'name': 'Python', 'id': 10}]\n",
    "```"
   ]
  },
  {
   "cell_type": "code",
   "execution_count": null,
   "metadata": {
    "id": "jbCajI87lQFr"
   },
   "outputs": [],
   "source": [
    "# write your code here"
   ]
  },
  {
   "cell_type": "markdown",
   "metadata": {
    "id": "5RxBlLQahLkB"
   },
   "source": [
    "### `Q4`: Convert a list of Tuples into Dictionary.\n",
    "\n",
    "**Example 1:**\n",
    "\n",
    "Input:\n",
    "```bash\n",
    "[(\"Rahim\", 10), (\"Karim\", 12), (\"Sadia\", 14), (\"Tania\", 20), (\"Fahim\", 25), (\"Nadia\", 30)]\n",
    "```\n",
    "\n",
    "Output:\n",
    "```bash\n",
    "{'Rahim': [10], 'Karim': [12], 'Sadia': [14], 'Tania': [20], 'Fahim': [25], 'Nadia': [30]}\n",
    "```\n",
    "\n",
    "**Example 2:**\n",
    "\n",
    "Input:\n",
    "```bash\n",
    "[('Ayan', 1), ('Bina', 2), ('Celia', 3)]\n",
    "```\n",
    "\n",
    "Output:\n",
    "```bash\n",
    "{'Ayan': [1], 'Bina': [2], 'Celia': [3]}\n",
    "```"
   ]
  },
  {
   "cell_type": "code",
   "execution_count": null,
   "metadata": {
    "id": "f1yz7inMlQ5N"
   },
   "outputs": [],
   "source": [
    "# write your code here"
   ]
  },
  {
   "cell_type": "markdown",
   "metadata": {
    "id": "Fz8EzJD-kBkS"
   },
   "source": [
    "### `Q5`: Sort Dictionary key and values List.\n",
    "\n",
    "**Example 1:**\n",
    "\n",
    "Input:\n",
    "\n",
    "```bash\n",
    "{'c': [3], 'b': [12, 10], 'a': [19, 4]}\n",
    "```\n",
    "\n",
    "Output:\n",
    "\n",
    "```bash\n",
    "{'a': [4, 19], 'b': [10, 12], 'c': [3]}\n",
    "```\n",
    "\n",
    "**Example 2:**\n",
    "\n",
    "Input:\n",
    "\n",
    "```bash\n",
    "{'c': [10, 34, 3]}\n",
    "```\n",
    "\n",
    "Output:\n",
    "\n",
    "```bash\n",
    "{'c': [3, 10, 34]}\n",
    "```"
   ]
  },
  {
   "cell_type": "code",
   "execution_count": null,
   "metadata": {
    "id": "x9UmJ4EQk7Pp"
   },
   "outputs": [],
   "source": [
    "# write your code here"
   ]
  }
 ],
 "metadata": {
  "colab": {
   "provenance": []
  },
  "kernelspec": {
   "display_name": "Python 3 (ipykernel)",
   "language": "python",
   "name": "python3"
  },
  "language_info": {
   "codemirror_mode": {
    "name": "ipython",
    "version": 3
   },
   "file_extension": ".py",
   "mimetype": "text/x-python",
   "name": "python",
   "nbconvert_exporter": "python",
   "pygments_lexer": "ipython3",
   "version": "3.13.0"
  }
 },
 "nbformat": 4,
 "nbformat_minor": 4
}
